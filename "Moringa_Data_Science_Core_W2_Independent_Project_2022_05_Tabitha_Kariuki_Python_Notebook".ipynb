{
  "nbformat": 4,
  "nbformat_minor": 0,
  "metadata": {
    "colab": {
      "name": "\"Moringa_Data_Science_Core_W2_Independent_Project_2022_05_Tabitha_Kariuki_Python_Notebook\"",
      "provenance": [],
      "collapsed_sections": [
        "kLG2VTrnTvYL",
        "XecOwPNorl2W",
        "J4wfHZwQrs-t",
        "a9BPYqunry97",
        "7KMRBJ7zr9HD",
        "zSGyg6kWsBUl",
        "iUNbvIvnT7ep",
        "OI3P3YnHUEBk",
        "6XC_g-zKxe-r",
        "FlBMxEDBUc9B",
        "rF2ABPsHUtbZ",
        "vTbdjSrhVIiT",
        "lQ2G4ZPDVOXE",
        "xrmHVMVsVS--",
        "HPQviDmNtta8",
        "qjFHK1CKty7o",
        "HSsicSdvt4Zs"
      ],
      "toc_visible": true,
      "include_colab_link": true
    },
    "kernelspec": {
      "name": "python3",
      "display_name": "Python 3"
    }
  },
  "cells": [
    {
      "cell_type": "markdown",
      "metadata": {
        "id": "view-in-github",
        "colab_type": "text"
      },
      "source": [
        "<a href=\"https://colab.research.google.com/github/TabithaWKariuki/Finacial-Inclusion-in-East-Africa/blob/main/%22Moringa_Data_Science_Core_W2_Independent_Project_2022_05_Tabitha_Kariuki_Python_Notebook%22.ipynb\" target=\"_parent\"><img src=\"https://colab.research.google.com/assets/colab-badge.svg\" alt=\"Open In Colab\"/></a>"
      ]
    },
    {
      "cell_type": "markdown",
      "metadata": {
        "id": "xMxtPsqcTsSH"
      },
      "source": [
        "# FINANCIAL INCLUSION IN EAST AFRICA"
      ]
    },
    {
      "cell_type": "markdown",
      "source": [
        "Financial inclusion refers to a process by which individuals or businesses can access appropriate, affordable, and timely financial products and services. These include banking, loan, equity, and insurance products."
      ],
      "metadata": {
        "id": "JRxYkOaJH0tF"
      }
    },
    {
      "cell_type": "markdown",
      "metadata": {
        "id": "kLG2VTrnTvYL"
      },
      "source": [
        "## 1. Defining the Question"
      ]
    },
    {
      "cell_type": "markdown",
      "metadata": {
        "id": "XecOwPNorl2W"
      },
      "source": [
        "### a) Specifying the Data Analytic Question"
      ]
    },
    {
      "cell_type": "markdown",
      "metadata": {
        "id": "HSWe1AMfx5DH"
      },
      "source": [
        "> How we can predict which individuals are most likely to have or use a bank account?"
      ]
    },
    {
      "cell_type": "markdown",
      "metadata": {
        "id": "J4wfHZwQrs-t"
      },
      "source": [
        "### b) Defining the Metric for Success"
      ]
    },
    {
      "cell_type": "markdown",
      "source": [
        "In order to work on the above problem, I will need to do the following:\n",
        "\n",
        "1. Find and deal with outliers, anomalies, and missing data within the dataset.\n",
        "Perform univariate, bivariate and multivariate analysis recording your observations.\n",
        "2. Implement the solution by performing the Linear Discriminant Analysis.\n",
        "3. Challenge the solution by providing insights on how you can make improvements."
      ],
      "metadata": {
        "id": "mNYRDsKEhSNk"
      }
    },
    {
      "cell_type": "markdown",
      "metadata": {
        "id": "a9BPYqunry97"
      },
      "source": [
        "### c) Understanding the context "
      ]
    },
    {
      "cell_type": "markdown",
      "source": [
        "Financial Inclusion remains one of the main obstacles to economic and human development in Africa. For example, across Kenya, Rwanda, Tanzania, and Uganda only 9.1 million adults (or 13.9% of the adult population) have access to or use a commercial bank account.\n",
        "\n",
        "Traditionally, access to bank accounts has been regarded as an indicator of financial inclusion. Despite the proliferation of mobile money in Africa and the growth of innovative fintech solutions, banks still play a pivotal role in facilitating access to financial services. Access to bank accounts enables households to save and facilitate payments while also helping businesses build up their credit-worthiness and improve their access to other financial services. Therefore, access to bank accounts is an essential contributor to long-term economic growth."
      ],
      "metadata": {
        "id": "c1bafGE1HPdW"
      }
    },
    {
      "cell_type": "markdown",
      "metadata": {
        "id": "7KMRBJ7zr9HD"
      },
      "source": [
        "### d) Recording the Experimental Design"
      ]
    },
    {
      "cell_type": "markdown",
      "source": [
        "1. Obtaining dataset for our study \n",
        "2. Importing all the necessary libraries for data analysis. \n",
        "3. Loading and viewing our data to better understand it.\n",
        "4. Finding and dealing with anomalies, outliers, missing values, and other unnecessary data within our dataset. \n",
        "5. Conducting our analysis by starting with univariate analysis, followed by bivariate and lastly multivariate analysis. \n",
        "6. We can then implement our solution. \n",
        "7. Finally, challenge the solution by providing recommendations on ways to improve."
      ],
      "metadata": {
        "id": "YaPNNpeBguTr"
      }
    },
    {
      "cell_type": "markdown",
      "metadata": {
        "id": "zSGyg6kWsBUl"
      },
      "source": [
        "### e) Data Relevance"
      ]
    },
    {
      "cell_type": "markdown",
      "source": [
        "All the data provided will help us analyze or predict which individulas are most likely to own a bank account. The data provided aligns with the context of our study. The datafiles are as follows;\n",
        "Variable Definitions: http://bit.ly/VariableDefinitions \n",
        "Dataset: http://bit.ly/FinancialDataset "
      ],
      "metadata": {
        "id": "tiJ4UIdzh_r9"
      }
    },
    {
      "cell_type": "markdown",
      "metadata": {
        "id": "iUNbvIvnT7ep"
      },
      "source": [
        "## 2. Reading the Data"
      ]
    },
    {
      "cell_type": "code",
      "source": [
        "# Importing the libraries\n",
        "#\n",
        "\n",
        "# Importing Numpy\n",
        "import numpy as np\n",
        "\n",
        "# Importing Pandas\n",
        "import pandas as pd\n",
        "\n",
        "# Importing Matplotlib\n",
        "import matplotlib.pyplot as plt\n",
        "\n",
        "# Importing Seaborn\n",
        "import seaborn as sns"
      ],
      "metadata": {
        "id": "adX2oSJQwaCW"
      },
      "execution_count": 10,
      "outputs": []
    },
    {
      "cell_type": "code",
      "metadata": {
        "id": "XJn2KjW-WMlG"
      },
      "source": [
        "# Loading the Data from the source.\n",
        "# Financial Dataset url: http://bit.ly/FinancialDataset\n",
        "\n",
        "finance=pd.read_csv('http://bit.ly/FinancialDataset')"
      ],
      "execution_count": 11,
      "outputs": []
    },
    {
      "cell_type": "code",
      "source": [
        "# Loading the variable definition data\n",
        "# Variable Definitions url: http://bit.ly/VariableDefinitions\n",
        "\n",
        "variableDEF=pd.read_csv('http://bit.ly/VariableDefinitions')"
      ],
      "metadata": {
        "id": "KICtYMgqzzbK"
      },
      "execution_count": 12,
      "outputs": []
    },
    {
      "cell_type": "markdown",
      "metadata": {
        "id": "OI3P3YnHUEBk"
      },
      "source": [
        "## 3. Checking the Data"
      ]
    },
    {
      "cell_type": "code",
      "source": [
        "# Previewing the variable definitions dataset\n",
        "#\n",
        "variableDEF"
      ],
      "metadata": {
        "colab": {
          "base_uri": "https://localhost:8080/",
          "height": 425
        },
        "id": "5TPC4daU0z-9",
        "outputId": "93f879aa-4e2c-497b-b3fe-f137039a180e"
      },
      "execution_count": null,
      "outputs": [
        {
          "output_type": "execute_result",
          "data": {
            "text/plain": [
              "      Variable Definitions                                         Unnamed: 1\n",
              "0                  country                         Country interviewee is in.\n",
              "1                     year                           Year survey was done in.\n",
              "2                 uniqueid             Unique identifier for each interviewee\n",
              "3            location_type                     Type of location: Rural, Urban\n",
              "4         cellphone_access  If interviewee has access to a cellphone: Yes, No\n",
              "5           household_size               Number of people living in one house\n",
              "6        age_of_respondent                         The age of the interviewee\n",
              "7     gender_of_respondent                Gender of interviewee: Male, Female\n",
              "8   relationship_with_head  The interviewee’s relationship with the head o...\n",
              "9           marital_status  The martial status of the interviewee: Married...\n",
              "10         education_level  Highest level of education: No formal educatio...\n",
              "11                job_type  Type of job interviewee has: Farming and Fishi..."
            ],
            "text/html": [
              "\n",
              "  <div id=\"df-3571018b-5434-44c9-a71b-d5eb9934b942\">\n",
              "    <div class=\"colab-df-container\">\n",
              "      <div>\n",
              "<style scoped>\n",
              "    .dataframe tbody tr th:only-of-type {\n",
              "        vertical-align: middle;\n",
              "    }\n",
              "\n",
              "    .dataframe tbody tr th {\n",
              "        vertical-align: top;\n",
              "    }\n",
              "\n",
              "    .dataframe thead th {\n",
              "        text-align: right;\n",
              "    }\n",
              "</style>\n",
              "<table border=\"1\" class=\"dataframe\">\n",
              "  <thead>\n",
              "    <tr style=\"text-align: right;\">\n",
              "      <th></th>\n",
              "      <th>Variable Definitions</th>\n",
              "      <th>Unnamed: 1</th>\n",
              "    </tr>\n",
              "  </thead>\n",
              "  <tbody>\n",
              "    <tr>\n",
              "      <th>0</th>\n",
              "      <td>country</td>\n",
              "      <td>Country interviewee is in.</td>\n",
              "    </tr>\n",
              "    <tr>\n",
              "      <th>1</th>\n",
              "      <td>year</td>\n",
              "      <td>Year survey was done in.</td>\n",
              "    </tr>\n",
              "    <tr>\n",
              "      <th>2</th>\n",
              "      <td>uniqueid</td>\n",
              "      <td>Unique identifier for each interviewee</td>\n",
              "    </tr>\n",
              "    <tr>\n",
              "      <th>3</th>\n",
              "      <td>location_type</td>\n",
              "      <td>Type of location: Rural, Urban</td>\n",
              "    </tr>\n",
              "    <tr>\n",
              "      <th>4</th>\n",
              "      <td>cellphone_access</td>\n",
              "      <td>If interviewee has access to a cellphone: Yes, No</td>\n",
              "    </tr>\n",
              "    <tr>\n",
              "      <th>5</th>\n",
              "      <td>household_size</td>\n",
              "      <td>Number of people living in one house</td>\n",
              "    </tr>\n",
              "    <tr>\n",
              "      <th>6</th>\n",
              "      <td>age_of_respondent</td>\n",
              "      <td>The age of the interviewee</td>\n",
              "    </tr>\n",
              "    <tr>\n",
              "      <th>7</th>\n",
              "      <td>gender_of_respondent</td>\n",
              "      <td>Gender of interviewee: Male, Female</td>\n",
              "    </tr>\n",
              "    <tr>\n",
              "      <th>8</th>\n",
              "      <td>relationship_with_head</td>\n",
              "      <td>The interviewee’s relationship with the head o...</td>\n",
              "    </tr>\n",
              "    <tr>\n",
              "      <th>9</th>\n",
              "      <td>marital_status</td>\n",
              "      <td>The martial status of the interviewee: Married...</td>\n",
              "    </tr>\n",
              "    <tr>\n",
              "      <th>10</th>\n",
              "      <td>education_level</td>\n",
              "      <td>Highest level of education: No formal educatio...</td>\n",
              "    </tr>\n",
              "    <tr>\n",
              "      <th>11</th>\n",
              "      <td>job_type</td>\n",
              "      <td>Type of job interviewee has: Farming and Fishi...</td>\n",
              "    </tr>\n",
              "  </tbody>\n",
              "</table>\n",
              "</div>\n",
              "      <button class=\"colab-df-convert\" onclick=\"convertToInteractive('df-3571018b-5434-44c9-a71b-d5eb9934b942')\"\n",
              "              title=\"Convert this dataframe to an interactive table.\"\n",
              "              style=\"display:none;\">\n",
              "        \n",
              "  <svg xmlns=\"http://www.w3.org/2000/svg\" height=\"24px\"viewBox=\"0 0 24 24\"\n",
              "       width=\"24px\">\n",
              "    <path d=\"M0 0h24v24H0V0z\" fill=\"none\"/>\n",
              "    <path d=\"M18.56 5.44l.94 2.06.94-2.06 2.06-.94-2.06-.94-.94-2.06-.94 2.06-2.06.94zm-11 1L8.5 8.5l.94-2.06 2.06-.94-2.06-.94L8.5 2.5l-.94 2.06-2.06.94zm10 10l.94 2.06.94-2.06 2.06-.94-2.06-.94-.94-2.06-.94 2.06-2.06.94z\"/><path d=\"M17.41 7.96l-1.37-1.37c-.4-.4-.92-.59-1.43-.59-.52 0-1.04.2-1.43.59L10.3 9.45l-7.72 7.72c-.78.78-.78 2.05 0 2.83L4 21.41c.39.39.9.59 1.41.59.51 0 1.02-.2 1.41-.59l7.78-7.78 2.81-2.81c.8-.78.8-2.07 0-2.86zM5.41 20L4 18.59l7.72-7.72 1.47 1.35L5.41 20z\"/>\n",
              "  </svg>\n",
              "      </button>\n",
              "      \n",
              "  <style>\n",
              "    .colab-df-container {\n",
              "      display:flex;\n",
              "      flex-wrap:wrap;\n",
              "      gap: 12px;\n",
              "    }\n",
              "\n",
              "    .colab-df-convert {\n",
              "      background-color: #E8F0FE;\n",
              "      border: none;\n",
              "      border-radius: 50%;\n",
              "      cursor: pointer;\n",
              "      display: none;\n",
              "      fill: #1967D2;\n",
              "      height: 32px;\n",
              "      padding: 0 0 0 0;\n",
              "      width: 32px;\n",
              "    }\n",
              "\n",
              "    .colab-df-convert:hover {\n",
              "      background-color: #E2EBFA;\n",
              "      box-shadow: 0px 1px 2px rgba(60, 64, 67, 0.3), 0px 1px 3px 1px rgba(60, 64, 67, 0.15);\n",
              "      fill: #174EA6;\n",
              "    }\n",
              "\n",
              "    [theme=dark] .colab-df-convert {\n",
              "      background-color: #3B4455;\n",
              "      fill: #D2E3FC;\n",
              "    }\n",
              "\n",
              "    [theme=dark] .colab-df-convert:hover {\n",
              "      background-color: #434B5C;\n",
              "      box-shadow: 0px 1px 3px 1px rgba(0, 0, 0, 0.15);\n",
              "      filter: drop-shadow(0px 1px 2px rgba(0, 0, 0, 0.3));\n",
              "      fill: #FFFFFF;\n",
              "    }\n",
              "  </style>\n",
              "\n",
              "      <script>\n",
              "        const buttonEl =\n",
              "          document.querySelector('#df-3571018b-5434-44c9-a71b-d5eb9934b942 button.colab-df-convert');\n",
              "        buttonEl.style.display =\n",
              "          google.colab.kernel.accessAllowed ? 'block' : 'none';\n",
              "\n",
              "        async function convertToInteractive(key) {\n",
              "          const element = document.querySelector('#df-3571018b-5434-44c9-a71b-d5eb9934b942');\n",
              "          const dataTable =\n",
              "            await google.colab.kernel.invokeFunction('convertToInteractive',\n",
              "                                                     [key], {});\n",
              "          if (!dataTable) return;\n",
              "\n",
              "          const docLinkHtml = 'Like what you see? Visit the ' +\n",
              "            '<a target=\"_blank\" href=https://colab.research.google.com/notebooks/data_table.ipynb>data table notebook</a>'\n",
              "            + ' to learn more about interactive tables.';\n",
              "          element.innerHTML = '';\n",
              "          dataTable['output_type'] = 'display_data';\n",
              "          await google.colab.output.renderOutput(dataTable, element);\n",
              "          const docLink = document.createElement('div');\n",
              "          docLink.innerHTML = docLinkHtml;\n",
              "          element.appendChild(docLink);\n",
              "        }\n",
              "      </script>\n",
              "    </div>\n",
              "  </div>\n",
              "  "
            ]
          },
          "metadata": {},
          "execution_count": 6
        }
      ]
    },
    {
      "cell_type": "code",
      "metadata": {
        "id": "YjSVNwgptHxY",
        "colab": {
          "base_uri": "https://localhost:8080/"
        },
        "outputId": "25845e5a-f146-44a7-df66-f139a36ccbab"
      },
      "source": [
        "# Determining the no. of records in our dataset\n",
        "#\n",
        "\n",
        "finance.shape"
      ],
      "execution_count": null,
      "outputs": [
        {
          "output_type": "execute_result",
          "data": {
            "text/plain": [
              "(23524, 13)"
            ]
          },
          "metadata": {},
          "execution_count": 3
        }
      ]
    },
    {
      "cell_type": "markdown",
      "source": [
        "Our dataset has 23524 rows and 13 columns.\n"
      ],
      "metadata": {
        "id": "_UEkzqKW1Zg4"
      }
    },
    {
      "cell_type": "code",
      "metadata": {
        "id": "xHhTw5eKWr0n",
        "colab": {
          "base_uri": "https://localhost:8080/",
          "height": 320
        },
        "outputId": "7204f913-ea2a-4752-ecb6-f3b1dbaab3fd"
      },
      "source": [
        "# Previewing the top of our dataset\n",
        "#\n",
        "\n",
        "finance.head()"
      ],
      "execution_count": null,
      "outputs": [
        {
          "output_type": "execute_result",
          "data": {
            "text/plain": [
              "  country  year    uniqueid Has a Bank account Type of Location  \\\n",
              "0   Kenya  2018  uniqueid_1                Yes            Rural   \n",
              "1   Kenya  2018  uniqueid_2                 No            Rural   \n",
              "2   Kenya  2018  uniqueid_3                Yes            Urban   \n",
              "3   Kenya  2018  uniqueid_4                 No            Rural   \n",
              "4   Kenya  2018  uniqueid_5                 No            Urban   \n",
              "\n",
              "  Cell Phone Access  household_size  Respondent Age gender_of_respondent  \\\n",
              "0               Yes             3.0            24.0               Female   \n",
              "1                No             5.0            70.0               Female   \n",
              "2               Yes             5.0            26.0                 Male   \n",
              "3               Yes             5.0            34.0               Female   \n",
              "4                No             8.0            26.0                 Male   \n",
              "\n",
              "  The relathip with head           marital_status  \\\n",
              "0                 Spouse  Married/Living together   \n",
              "1      Head of Household                  Widowed   \n",
              "2         Other relative     Single/Never Married   \n",
              "3      Head of Household  Married/Living together   \n",
              "4                  Child     Single/Never Married   \n",
              "\n",
              "               Level of Educuation                Type of Job  \n",
              "0              Secondary education              Self employed  \n",
              "1              No formal education       Government Dependent  \n",
              "2  Vocational/Specialised training              Self employed  \n",
              "3                Primary education  Formally employed Private  \n",
              "4                Primary education        Informally employed  "
            ],
            "text/html": [
              "\n",
              "  <div id=\"df-145309f0-04be-4375-8338-a343377664e2\">\n",
              "    <div class=\"colab-df-container\">\n",
              "      <div>\n",
              "<style scoped>\n",
              "    .dataframe tbody tr th:only-of-type {\n",
              "        vertical-align: middle;\n",
              "    }\n",
              "\n",
              "    .dataframe tbody tr th {\n",
              "        vertical-align: top;\n",
              "    }\n",
              "\n",
              "    .dataframe thead th {\n",
              "        text-align: right;\n",
              "    }\n",
              "</style>\n",
              "<table border=\"1\" class=\"dataframe\">\n",
              "  <thead>\n",
              "    <tr style=\"text-align: right;\">\n",
              "      <th></th>\n",
              "      <th>country</th>\n",
              "      <th>year</th>\n",
              "      <th>uniqueid</th>\n",
              "      <th>Has a Bank account</th>\n",
              "      <th>Type of Location</th>\n",
              "      <th>Cell Phone Access</th>\n",
              "      <th>household_size</th>\n",
              "      <th>Respondent Age</th>\n",
              "      <th>gender_of_respondent</th>\n",
              "      <th>The relathip with head</th>\n",
              "      <th>marital_status</th>\n",
              "      <th>Level of Educuation</th>\n",
              "      <th>Type of Job</th>\n",
              "    </tr>\n",
              "  </thead>\n",
              "  <tbody>\n",
              "    <tr>\n",
              "      <th>0</th>\n",
              "      <td>Kenya</td>\n",
              "      <td>2018</td>\n",
              "      <td>uniqueid_1</td>\n",
              "      <td>Yes</td>\n",
              "      <td>Rural</td>\n",
              "      <td>Yes</td>\n",
              "      <td>3.0</td>\n",
              "      <td>24.0</td>\n",
              "      <td>Female</td>\n",
              "      <td>Spouse</td>\n",
              "      <td>Married/Living together</td>\n",
              "      <td>Secondary education</td>\n",
              "      <td>Self employed</td>\n",
              "    </tr>\n",
              "    <tr>\n",
              "      <th>1</th>\n",
              "      <td>Kenya</td>\n",
              "      <td>2018</td>\n",
              "      <td>uniqueid_2</td>\n",
              "      <td>No</td>\n",
              "      <td>Rural</td>\n",
              "      <td>No</td>\n",
              "      <td>5.0</td>\n",
              "      <td>70.0</td>\n",
              "      <td>Female</td>\n",
              "      <td>Head of Household</td>\n",
              "      <td>Widowed</td>\n",
              "      <td>No formal education</td>\n",
              "      <td>Government Dependent</td>\n",
              "    </tr>\n",
              "    <tr>\n",
              "      <th>2</th>\n",
              "      <td>Kenya</td>\n",
              "      <td>2018</td>\n",
              "      <td>uniqueid_3</td>\n",
              "      <td>Yes</td>\n",
              "      <td>Urban</td>\n",
              "      <td>Yes</td>\n",
              "      <td>5.0</td>\n",
              "      <td>26.0</td>\n",
              "      <td>Male</td>\n",
              "      <td>Other relative</td>\n",
              "      <td>Single/Never Married</td>\n",
              "      <td>Vocational/Specialised training</td>\n",
              "      <td>Self employed</td>\n",
              "    </tr>\n",
              "    <tr>\n",
              "      <th>3</th>\n",
              "      <td>Kenya</td>\n",
              "      <td>2018</td>\n",
              "      <td>uniqueid_4</td>\n",
              "      <td>No</td>\n",
              "      <td>Rural</td>\n",
              "      <td>Yes</td>\n",
              "      <td>5.0</td>\n",
              "      <td>34.0</td>\n",
              "      <td>Female</td>\n",
              "      <td>Head of Household</td>\n",
              "      <td>Married/Living together</td>\n",
              "      <td>Primary education</td>\n",
              "      <td>Formally employed Private</td>\n",
              "    </tr>\n",
              "    <tr>\n",
              "      <th>4</th>\n",
              "      <td>Kenya</td>\n",
              "      <td>2018</td>\n",
              "      <td>uniqueid_5</td>\n",
              "      <td>No</td>\n",
              "      <td>Urban</td>\n",
              "      <td>No</td>\n",
              "      <td>8.0</td>\n",
              "      <td>26.0</td>\n",
              "      <td>Male</td>\n",
              "      <td>Child</td>\n",
              "      <td>Single/Never Married</td>\n",
              "      <td>Primary education</td>\n",
              "      <td>Informally employed</td>\n",
              "    </tr>\n",
              "  </tbody>\n",
              "</table>\n",
              "</div>\n",
              "      <button class=\"colab-df-convert\" onclick=\"convertToInteractive('df-145309f0-04be-4375-8338-a343377664e2')\"\n",
              "              title=\"Convert this dataframe to an interactive table.\"\n",
              "              style=\"display:none;\">\n",
              "        \n",
              "  <svg xmlns=\"http://www.w3.org/2000/svg\" height=\"24px\"viewBox=\"0 0 24 24\"\n",
              "       width=\"24px\">\n",
              "    <path d=\"M0 0h24v24H0V0z\" fill=\"none\"/>\n",
              "    <path d=\"M18.56 5.44l.94 2.06.94-2.06 2.06-.94-2.06-.94-.94-2.06-.94 2.06-2.06.94zm-11 1L8.5 8.5l.94-2.06 2.06-.94-2.06-.94L8.5 2.5l-.94 2.06-2.06.94zm10 10l.94 2.06.94-2.06 2.06-.94-2.06-.94-.94-2.06-.94 2.06-2.06.94z\"/><path d=\"M17.41 7.96l-1.37-1.37c-.4-.4-.92-.59-1.43-.59-.52 0-1.04.2-1.43.59L10.3 9.45l-7.72 7.72c-.78.78-.78 2.05 0 2.83L4 21.41c.39.39.9.59 1.41.59.51 0 1.02-.2 1.41-.59l7.78-7.78 2.81-2.81c.8-.78.8-2.07 0-2.86zM5.41 20L4 18.59l7.72-7.72 1.47 1.35L5.41 20z\"/>\n",
              "  </svg>\n",
              "      </button>\n",
              "      \n",
              "  <style>\n",
              "    .colab-df-container {\n",
              "      display:flex;\n",
              "      flex-wrap:wrap;\n",
              "      gap: 12px;\n",
              "    }\n",
              "\n",
              "    .colab-df-convert {\n",
              "      background-color: #E8F0FE;\n",
              "      border: none;\n",
              "      border-radius: 50%;\n",
              "      cursor: pointer;\n",
              "      display: none;\n",
              "      fill: #1967D2;\n",
              "      height: 32px;\n",
              "      padding: 0 0 0 0;\n",
              "      width: 32px;\n",
              "    }\n",
              "\n",
              "    .colab-df-convert:hover {\n",
              "      background-color: #E2EBFA;\n",
              "      box-shadow: 0px 1px 2px rgba(60, 64, 67, 0.3), 0px 1px 3px 1px rgba(60, 64, 67, 0.15);\n",
              "      fill: #174EA6;\n",
              "    }\n",
              "\n",
              "    [theme=dark] .colab-df-convert {\n",
              "      background-color: #3B4455;\n",
              "      fill: #D2E3FC;\n",
              "    }\n",
              "\n",
              "    [theme=dark] .colab-df-convert:hover {\n",
              "      background-color: #434B5C;\n",
              "      box-shadow: 0px 1px 3px 1px rgba(0, 0, 0, 0.15);\n",
              "      filter: drop-shadow(0px 1px 2px rgba(0, 0, 0, 0.3));\n",
              "      fill: #FFFFFF;\n",
              "    }\n",
              "  </style>\n",
              "\n",
              "      <script>\n",
              "        const buttonEl =\n",
              "          document.querySelector('#df-145309f0-04be-4375-8338-a343377664e2 button.colab-df-convert');\n",
              "        buttonEl.style.display =\n",
              "          google.colab.kernel.accessAllowed ? 'block' : 'none';\n",
              "\n",
              "        async function convertToInteractive(key) {\n",
              "          const element = document.querySelector('#df-145309f0-04be-4375-8338-a343377664e2');\n",
              "          const dataTable =\n",
              "            await google.colab.kernel.invokeFunction('convertToInteractive',\n",
              "                                                     [key], {});\n",
              "          if (!dataTable) return;\n",
              "\n",
              "          const docLinkHtml = 'Like what you see? Visit the ' +\n",
              "            '<a target=\"_blank\" href=https://colab.research.google.com/notebooks/data_table.ipynb>data table notebook</a>'\n",
              "            + ' to learn more about interactive tables.';\n",
              "          element.innerHTML = '';\n",
              "          dataTable['output_type'] = 'display_data';\n",
              "          await google.colab.output.renderOutput(dataTable, element);\n",
              "          const docLink = document.createElement('div');\n",
              "          docLink.innerHTML = docLinkHtml;\n",
              "          element.appendChild(docLink);\n",
              "        }\n",
              "      </script>\n",
              "    </div>\n",
              "  </div>\n",
              "  "
            ]
          },
          "metadata": {},
          "execution_count": 7
        }
      ]
    },
    {
      "cell_type": "code",
      "metadata": {
        "id": "e9AzGcZFrIIr",
        "colab": {
          "base_uri": "https://localhost:8080/",
          "height": 320
        },
        "outputId": "f07e6bf0-758c-4a3b-8b71-a882c0add942"
      },
      "source": [
        "# Previewing the bottom of our dataset\n",
        "# \n",
        "\n",
        "finance.tail()"
      ],
      "execution_count": null,
      "outputs": [
        {
          "output_type": "execute_result",
          "data": {
            "text/plain": [
              "      country  year       uniqueid Has a Bank account Type of Location  \\\n",
              "23519  Uganda  2018  uniqueid_2113                 No            Rural   \n",
              "23520  Uganda  2018  uniqueid_2114                 No            Rural   \n",
              "23521  Uganda  2018  uniqueid_2115                 No            Rural   \n",
              "23522  Uganda  2018  uniqueid_2116                 No            Urban   \n",
              "23523  Uganda  2018  uniqueid_2117                 No            Rural   \n",
              "\n",
              "      Cell Phone Access  household_size  Respondent Age gender_of_respondent  \\\n",
              "23519               Yes             4.0            48.0               Female   \n",
              "23520               Yes             2.0            27.0               Female   \n",
              "23521               Yes             5.0            27.0               Female   \n",
              "23522               Yes             7.0            30.0               Female   \n",
              "23523               Yes            10.0            20.0                 Male   \n",
              "\n",
              "      The relathip with head        marital_status  Level of Educuation  \\\n",
              "23519      Head of Household    Divorced/Seperated  No formal education   \n",
              "23520      Head of Household  Single/Never Married  Secondary education   \n",
              "23521                 Parent               Widowed    Primary education   \n",
              "23522                 Parent    Divorced/Seperated  Secondary education   \n",
              "23523                  Child  Single/Never Married  Secondary education   \n",
              "\n",
              "         Type of Job  \n",
              "23519   Other Income  \n",
              "23520   Other Income  \n",
              "23521   Other Income  \n",
              "23522  Self employed  \n",
              "23523      No Income  "
            ],
            "text/html": [
              "\n",
              "  <div id=\"df-b28adc5f-9399-4be2-a733-aecc6e325767\">\n",
              "    <div class=\"colab-df-container\">\n",
              "      <div>\n",
              "<style scoped>\n",
              "    .dataframe tbody tr th:only-of-type {\n",
              "        vertical-align: middle;\n",
              "    }\n",
              "\n",
              "    .dataframe tbody tr th {\n",
              "        vertical-align: top;\n",
              "    }\n",
              "\n",
              "    .dataframe thead th {\n",
              "        text-align: right;\n",
              "    }\n",
              "</style>\n",
              "<table border=\"1\" class=\"dataframe\">\n",
              "  <thead>\n",
              "    <tr style=\"text-align: right;\">\n",
              "      <th></th>\n",
              "      <th>country</th>\n",
              "      <th>year</th>\n",
              "      <th>uniqueid</th>\n",
              "      <th>Has a Bank account</th>\n",
              "      <th>Type of Location</th>\n",
              "      <th>Cell Phone Access</th>\n",
              "      <th>household_size</th>\n",
              "      <th>Respondent Age</th>\n",
              "      <th>gender_of_respondent</th>\n",
              "      <th>The relathip with head</th>\n",
              "      <th>marital_status</th>\n",
              "      <th>Level of Educuation</th>\n",
              "      <th>Type of Job</th>\n",
              "    </tr>\n",
              "  </thead>\n",
              "  <tbody>\n",
              "    <tr>\n",
              "      <th>23519</th>\n",
              "      <td>Uganda</td>\n",
              "      <td>2018</td>\n",
              "      <td>uniqueid_2113</td>\n",
              "      <td>No</td>\n",
              "      <td>Rural</td>\n",
              "      <td>Yes</td>\n",
              "      <td>4.0</td>\n",
              "      <td>48.0</td>\n",
              "      <td>Female</td>\n",
              "      <td>Head of Household</td>\n",
              "      <td>Divorced/Seperated</td>\n",
              "      <td>No formal education</td>\n",
              "      <td>Other Income</td>\n",
              "    </tr>\n",
              "    <tr>\n",
              "      <th>23520</th>\n",
              "      <td>Uganda</td>\n",
              "      <td>2018</td>\n",
              "      <td>uniqueid_2114</td>\n",
              "      <td>No</td>\n",
              "      <td>Rural</td>\n",
              "      <td>Yes</td>\n",
              "      <td>2.0</td>\n",
              "      <td>27.0</td>\n",
              "      <td>Female</td>\n",
              "      <td>Head of Household</td>\n",
              "      <td>Single/Never Married</td>\n",
              "      <td>Secondary education</td>\n",
              "      <td>Other Income</td>\n",
              "    </tr>\n",
              "    <tr>\n",
              "      <th>23521</th>\n",
              "      <td>Uganda</td>\n",
              "      <td>2018</td>\n",
              "      <td>uniqueid_2115</td>\n",
              "      <td>No</td>\n",
              "      <td>Rural</td>\n",
              "      <td>Yes</td>\n",
              "      <td>5.0</td>\n",
              "      <td>27.0</td>\n",
              "      <td>Female</td>\n",
              "      <td>Parent</td>\n",
              "      <td>Widowed</td>\n",
              "      <td>Primary education</td>\n",
              "      <td>Other Income</td>\n",
              "    </tr>\n",
              "    <tr>\n",
              "      <th>23522</th>\n",
              "      <td>Uganda</td>\n",
              "      <td>2018</td>\n",
              "      <td>uniqueid_2116</td>\n",
              "      <td>No</td>\n",
              "      <td>Urban</td>\n",
              "      <td>Yes</td>\n",
              "      <td>7.0</td>\n",
              "      <td>30.0</td>\n",
              "      <td>Female</td>\n",
              "      <td>Parent</td>\n",
              "      <td>Divorced/Seperated</td>\n",
              "      <td>Secondary education</td>\n",
              "      <td>Self employed</td>\n",
              "    </tr>\n",
              "    <tr>\n",
              "      <th>23523</th>\n",
              "      <td>Uganda</td>\n",
              "      <td>2018</td>\n",
              "      <td>uniqueid_2117</td>\n",
              "      <td>No</td>\n",
              "      <td>Rural</td>\n",
              "      <td>Yes</td>\n",
              "      <td>10.0</td>\n",
              "      <td>20.0</td>\n",
              "      <td>Male</td>\n",
              "      <td>Child</td>\n",
              "      <td>Single/Never Married</td>\n",
              "      <td>Secondary education</td>\n",
              "      <td>No Income</td>\n",
              "    </tr>\n",
              "  </tbody>\n",
              "</table>\n",
              "</div>\n",
              "      <button class=\"colab-df-convert\" onclick=\"convertToInteractive('df-b28adc5f-9399-4be2-a733-aecc6e325767')\"\n",
              "              title=\"Convert this dataframe to an interactive table.\"\n",
              "              style=\"display:none;\">\n",
              "        \n",
              "  <svg xmlns=\"http://www.w3.org/2000/svg\" height=\"24px\"viewBox=\"0 0 24 24\"\n",
              "       width=\"24px\">\n",
              "    <path d=\"M0 0h24v24H0V0z\" fill=\"none\"/>\n",
              "    <path d=\"M18.56 5.44l.94 2.06.94-2.06 2.06-.94-2.06-.94-.94-2.06-.94 2.06-2.06.94zm-11 1L8.5 8.5l.94-2.06 2.06-.94-2.06-.94L8.5 2.5l-.94 2.06-2.06.94zm10 10l.94 2.06.94-2.06 2.06-.94-2.06-.94-.94-2.06-.94 2.06-2.06.94z\"/><path d=\"M17.41 7.96l-1.37-1.37c-.4-.4-.92-.59-1.43-.59-.52 0-1.04.2-1.43.59L10.3 9.45l-7.72 7.72c-.78.78-.78 2.05 0 2.83L4 21.41c.39.39.9.59 1.41.59.51 0 1.02-.2 1.41-.59l7.78-7.78 2.81-2.81c.8-.78.8-2.07 0-2.86zM5.41 20L4 18.59l7.72-7.72 1.47 1.35L5.41 20z\"/>\n",
              "  </svg>\n",
              "      </button>\n",
              "      \n",
              "  <style>\n",
              "    .colab-df-container {\n",
              "      display:flex;\n",
              "      flex-wrap:wrap;\n",
              "      gap: 12px;\n",
              "    }\n",
              "\n",
              "    .colab-df-convert {\n",
              "      background-color: #E8F0FE;\n",
              "      border: none;\n",
              "      border-radius: 50%;\n",
              "      cursor: pointer;\n",
              "      display: none;\n",
              "      fill: #1967D2;\n",
              "      height: 32px;\n",
              "      padding: 0 0 0 0;\n",
              "      width: 32px;\n",
              "    }\n",
              "\n",
              "    .colab-df-convert:hover {\n",
              "      background-color: #E2EBFA;\n",
              "      box-shadow: 0px 1px 2px rgba(60, 64, 67, 0.3), 0px 1px 3px 1px rgba(60, 64, 67, 0.15);\n",
              "      fill: #174EA6;\n",
              "    }\n",
              "\n",
              "    [theme=dark] .colab-df-convert {\n",
              "      background-color: #3B4455;\n",
              "      fill: #D2E3FC;\n",
              "    }\n",
              "\n",
              "    [theme=dark] .colab-df-convert:hover {\n",
              "      background-color: #434B5C;\n",
              "      box-shadow: 0px 1px 3px 1px rgba(0, 0, 0, 0.15);\n",
              "      filter: drop-shadow(0px 1px 2px rgba(0, 0, 0, 0.3));\n",
              "      fill: #FFFFFF;\n",
              "    }\n",
              "  </style>\n",
              "\n",
              "      <script>\n",
              "        const buttonEl =\n",
              "          document.querySelector('#df-b28adc5f-9399-4be2-a733-aecc6e325767 button.colab-df-convert');\n",
              "        buttonEl.style.display =\n",
              "          google.colab.kernel.accessAllowed ? 'block' : 'none';\n",
              "\n",
              "        async function convertToInteractive(key) {\n",
              "          const element = document.querySelector('#df-b28adc5f-9399-4be2-a733-aecc6e325767');\n",
              "          const dataTable =\n",
              "            await google.colab.kernel.invokeFunction('convertToInteractive',\n",
              "                                                     [key], {});\n",
              "          if (!dataTable) return;\n",
              "\n",
              "          const docLinkHtml = 'Like what you see? Visit the ' +\n",
              "            '<a target=\"_blank\" href=https://colab.research.google.com/notebooks/data_table.ipynb>data table notebook</a>'\n",
              "            + ' to learn more about interactive tables.';\n",
              "          element.innerHTML = '';\n",
              "          dataTable['output_type'] = 'display_data';\n",
              "          await google.colab.output.renderOutput(dataTable, element);\n",
              "          const docLink = document.createElement('div');\n",
              "          docLink.innerHTML = docLinkHtml;\n",
              "          element.appendChild(docLink);\n",
              "        }\n",
              "      </script>\n",
              "    </div>\n",
              "  </div>\n",
              "  "
            ]
          },
          "metadata": {},
          "execution_count": 8
        }
      ]
    },
    {
      "cell_type": "code",
      "source": [
        "# checking the general information of our dataframe\n",
        "#\n",
        "\n",
        "finance.info()"
      ],
      "metadata": {
        "colab": {
          "base_uri": "https://localhost:8080/"
        },
        "id": "okIEu3bT2Pt2",
        "outputId": "7e7a6c4c-eedd-43bb-a00a-bcbd61b64010"
      },
      "execution_count": null,
      "outputs": [
        {
          "output_type": "stream",
          "name": "stdout",
          "text": [
            "<class 'pandas.core.frame.DataFrame'>\n",
            "RangeIndex: 23524 entries, 0 to 23523\n",
            "Data columns (total 13 columns):\n",
            " #   Column                  Non-Null Count  Dtype  \n",
            "---  ------                  --------------  -----  \n",
            " 0   country                 23510 non-null  object \n",
            " 1   year                    23524 non-null  int64  \n",
            " 2   uniqueid                23524 non-null  object \n",
            " 3   Has a Bank account      23488 non-null  object \n",
            " 4   Type of Location        23509 non-null  object \n",
            " 5   Cell Phone Access       23513 non-null  object \n",
            " 6   household_size          23496 non-null  float64\n",
            " 7   Respondent Age          23490 non-null  float64\n",
            " 8   gender_of_respondent    23490 non-null  object \n",
            " 9   The relathip with head  23520 non-null  object \n",
            " 10  marital_status          23492 non-null  object \n",
            " 11  Level of Educuation     23495 non-null  object \n",
            " 12  Type of Job             23494 non-null  object \n",
            "dtypes: float64(2), int64(1), object(10)\n",
            "memory usage: 2.3+ MB\n"
          ]
        }
      ]
    },
    {
      "cell_type": "code",
      "metadata": {
        "id": "n8-dW4sQWzbc",
        "colab": {
          "base_uri": "https://localhost:8080/"
        },
        "outputId": "fe98a434-a618-4fc2-871f-43ec84c87d91"
      },
      "source": [
        "# Checking whether each column has an appropriate datatype\n",
        "#\n",
        "\n",
        "finance.dtypes"
      ],
      "execution_count": null,
      "outputs": [
        {
          "output_type": "execute_result",
          "data": {
            "text/plain": [
              "country                    object\n",
              "year                        int64\n",
              "uniqueid                   object\n",
              "Has a Bank account         object\n",
              "Type of Location           object\n",
              "Cell Phone Access          object\n",
              "household_size            float64\n",
              "Respondent Age            float64\n",
              "gender_of_respondent       object\n",
              "The relathip with head     object\n",
              "marital_status             object\n",
              "Level of Educuation        object\n",
              "Type of Job                object\n",
              "dtype: object"
            ]
          },
          "metadata": {},
          "execution_count": 10
        }
      ]
    },
    {
      "cell_type": "code",
      "source": [
        "# Checking our column fields.\n",
        "\n",
        "finance.columns.values.tolist()"
      ],
      "metadata": {
        "colab": {
          "base_uri": "https://localhost:8080/"
        },
        "id": "mAbZkuz83Kve",
        "outputId": "5f33ea8d-df3c-4cd2-fbf1-2c8c5cf2bf12"
      },
      "execution_count": null,
      "outputs": [
        {
          "output_type": "execute_result",
          "data": {
            "text/plain": [
              "['country',\n",
              " 'year',\n",
              " 'uniqueid',\n",
              " 'Has a Bank account',\n",
              " 'Type of Location',\n",
              " 'Cell Phone Access',\n",
              " 'household_size',\n",
              " 'Respondent Age',\n",
              " 'gender_of_respondent',\n",
              " 'The relathip with head',\n",
              " 'marital_status',\n",
              " 'Level of Educuation',\n",
              " 'Type of Job']"
            ]
          },
          "metadata": {},
          "execution_count": 12
        }
      ]
    },
    {
      "cell_type": "code",
      "source": [
        "# Finding the summary statitics of our dataframe\n",
        "\n",
        "finance.describe()\n",
        "\n",
        "# This line of code only selects the continous variables only"
      ],
      "metadata": {
        "colab": {
          "base_uri": "https://localhost:8080/",
          "height": 300
        },
        "id": "jr2cFP_r3kZ5",
        "outputId": "d76d8c50-d26e-4530-f2eb-cff4a81f47f1"
      },
      "execution_count": null,
      "outputs": [
        {
          "output_type": "execute_result",
          "data": {
            "text/plain": [
              "               year  household_size  Respondent Age\n",
              "count  23524.000000    23496.000000    23490.000000\n",
              "mean    2016.979000        3.681818       38.804300\n",
              "std        0.899669        2.279933       16.519996\n",
              "min     2016.000000        0.000000       16.000000\n",
              "25%     2016.000000        2.000000       26.000000\n",
              "50%     2017.000000        3.000000       35.000000\n",
              "75%     2018.000000        5.000000       49.000000\n",
              "max     2056.000000       21.000000      100.000000"
            ],
            "text/html": [
              "\n",
              "  <div id=\"df-6979610f-0d3c-4759-8353-9937153b4083\">\n",
              "    <div class=\"colab-df-container\">\n",
              "      <div>\n",
              "<style scoped>\n",
              "    .dataframe tbody tr th:only-of-type {\n",
              "        vertical-align: middle;\n",
              "    }\n",
              "\n",
              "    .dataframe tbody tr th {\n",
              "        vertical-align: top;\n",
              "    }\n",
              "\n",
              "    .dataframe thead th {\n",
              "        text-align: right;\n",
              "    }\n",
              "</style>\n",
              "<table border=\"1\" class=\"dataframe\">\n",
              "  <thead>\n",
              "    <tr style=\"text-align: right;\">\n",
              "      <th></th>\n",
              "      <th>year</th>\n",
              "      <th>household_size</th>\n",
              "      <th>Respondent Age</th>\n",
              "    </tr>\n",
              "  </thead>\n",
              "  <tbody>\n",
              "    <tr>\n",
              "      <th>count</th>\n",
              "      <td>23524.000000</td>\n",
              "      <td>23496.000000</td>\n",
              "      <td>23490.000000</td>\n",
              "    </tr>\n",
              "    <tr>\n",
              "      <th>mean</th>\n",
              "      <td>2016.979000</td>\n",
              "      <td>3.681818</td>\n",
              "      <td>38.804300</td>\n",
              "    </tr>\n",
              "    <tr>\n",
              "      <th>std</th>\n",
              "      <td>0.899669</td>\n",
              "      <td>2.279933</td>\n",
              "      <td>16.519996</td>\n",
              "    </tr>\n",
              "    <tr>\n",
              "      <th>min</th>\n",
              "      <td>2016.000000</td>\n",
              "      <td>0.000000</td>\n",
              "      <td>16.000000</td>\n",
              "    </tr>\n",
              "    <tr>\n",
              "      <th>25%</th>\n",
              "      <td>2016.000000</td>\n",
              "      <td>2.000000</td>\n",
              "      <td>26.000000</td>\n",
              "    </tr>\n",
              "    <tr>\n",
              "      <th>50%</th>\n",
              "      <td>2017.000000</td>\n",
              "      <td>3.000000</td>\n",
              "      <td>35.000000</td>\n",
              "    </tr>\n",
              "    <tr>\n",
              "      <th>75%</th>\n",
              "      <td>2018.000000</td>\n",
              "      <td>5.000000</td>\n",
              "      <td>49.000000</td>\n",
              "    </tr>\n",
              "    <tr>\n",
              "      <th>max</th>\n",
              "      <td>2056.000000</td>\n",
              "      <td>21.000000</td>\n",
              "      <td>100.000000</td>\n",
              "    </tr>\n",
              "  </tbody>\n",
              "</table>\n",
              "</div>\n",
              "      <button class=\"colab-df-convert\" onclick=\"convertToInteractive('df-6979610f-0d3c-4759-8353-9937153b4083')\"\n",
              "              title=\"Convert this dataframe to an interactive table.\"\n",
              "              style=\"display:none;\">\n",
              "        \n",
              "  <svg xmlns=\"http://www.w3.org/2000/svg\" height=\"24px\"viewBox=\"0 0 24 24\"\n",
              "       width=\"24px\">\n",
              "    <path d=\"M0 0h24v24H0V0z\" fill=\"none\"/>\n",
              "    <path d=\"M18.56 5.44l.94 2.06.94-2.06 2.06-.94-2.06-.94-.94-2.06-.94 2.06-2.06.94zm-11 1L8.5 8.5l.94-2.06 2.06-.94-2.06-.94L8.5 2.5l-.94 2.06-2.06.94zm10 10l.94 2.06.94-2.06 2.06-.94-2.06-.94-.94-2.06-.94 2.06-2.06.94z\"/><path d=\"M17.41 7.96l-1.37-1.37c-.4-.4-.92-.59-1.43-.59-.52 0-1.04.2-1.43.59L10.3 9.45l-7.72 7.72c-.78.78-.78 2.05 0 2.83L4 21.41c.39.39.9.59 1.41.59.51 0 1.02-.2 1.41-.59l7.78-7.78 2.81-2.81c.8-.78.8-2.07 0-2.86zM5.41 20L4 18.59l7.72-7.72 1.47 1.35L5.41 20z\"/>\n",
              "  </svg>\n",
              "      </button>\n",
              "      \n",
              "  <style>\n",
              "    .colab-df-container {\n",
              "      display:flex;\n",
              "      flex-wrap:wrap;\n",
              "      gap: 12px;\n",
              "    }\n",
              "\n",
              "    .colab-df-convert {\n",
              "      background-color: #E8F0FE;\n",
              "      border: none;\n",
              "      border-radius: 50%;\n",
              "      cursor: pointer;\n",
              "      display: none;\n",
              "      fill: #1967D2;\n",
              "      height: 32px;\n",
              "      padding: 0 0 0 0;\n",
              "      width: 32px;\n",
              "    }\n",
              "\n",
              "    .colab-df-convert:hover {\n",
              "      background-color: #E2EBFA;\n",
              "      box-shadow: 0px 1px 2px rgba(60, 64, 67, 0.3), 0px 1px 3px 1px rgba(60, 64, 67, 0.15);\n",
              "      fill: #174EA6;\n",
              "    }\n",
              "\n",
              "    [theme=dark] .colab-df-convert {\n",
              "      background-color: #3B4455;\n",
              "      fill: #D2E3FC;\n",
              "    }\n",
              "\n",
              "    [theme=dark] .colab-df-convert:hover {\n",
              "      background-color: #434B5C;\n",
              "      box-shadow: 0px 1px 3px 1px rgba(0, 0, 0, 0.15);\n",
              "      filter: drop-shadow(0px 1px 2px rgba(0, 0, 0, 0.3));\n",
              "      fill: #FFFFFF;\n",
              "    }\n",
              "  </style>\n",
              "\n",
              "      <script>\n",
              "        const buttonEl =\n",
              "          document.querySelector('#df-6979610f-0d3c-4759-8353-9937153b4083 button.colab-df-convert');\n",
              "        buttonEl.style.display =\n",
              "          google.colab.kernel.accessAllowed ? 'block' : 'none';\n",
              "\n",
              "        async function convertToInteractive(key) {\n",
              "          const element = document.querySelector('#df-6979610f-0d3c-4759-8353-9937153b4083');\n",
              "          const dataTable =\n",
              "            await google.colab.kernel.invokeFunction('convertToInteractive',\n",
              "                                                     [key], {});\n",
              "          if (!dataTable) return;\n",
              "\n",
              "          const docLinkHtml = 'Like what you see? Visit the ' +\n",
              "            '<a target=\"_blank\" href=https://colab.research.google.com/notebooks/data_table.ipynb>data table notebook</a>'\n",
              "            + ' to learn more about interactive tables.';\n",
              "          element.innerHTML = '';\n",
              "          dataTable['output_type'] = 'display_data';\n",
              "          await google.colab.output.renderOutput(dataTable, element);\n",
              "          const docLink = document.createElement('div');\n",
              "          docLink.innerHTML = docLinkHtml;\n",
              "          element.appendChild(docLink);\n",
              "        }\n",
              "      </script>\n",
              "    </div>\n",
              "  </div>\n",
              "  "
            ]
          },
          "metadata": {},
          "execution_count": 14
        }
      ]
    },
    {
      "cell_type": "code",
      "source": [
        "# Finding the summary statistics of all variables in the dataframe\n",
        "\n",
        "finance.describe(include='all')"
      ],
      "metadata": {
        "colab": {
          "base_uri": "https://localhost:8080/",
          "height": 473
        },
        "id": "IZ7oVvNu4ZNj",
        "outputId": "b83e1f08-f491-4f5a-ea56-0cce02e939b3"
      },
      "execution_count": null,
      "outputs": [
        {
          "output_type": "execute_result",
          "data": {
            "text/plain": [
              "       country          year    uniqueid Has a Bank account Type of Location  \\\n",
              "count    23510  23524.000000       23524              23488            23509   \n",
              "unique       4           NaN        8735                  2                2   \n",
              "top     Rwanda           NaN  uniqueid_1                 No            Rural   \n",
              "freq      8735           NaN           4              20179            14338   \n",
              "mean       NaN   2016.979000         NaN                NaN              NaN   \n",
              "std        NaN      0.899669         NaN                NaN              NaN   \n",
              "min        NaN   2016.000000         NaN                NaN              NaN   \n",
              "25%        NaN   2016.000000         NaN                NaN              NaN   \n",
              "50%        NaN   2017.000000         NaN                NaN              NaN   \n",
              "75%        NaN   2018.000000         NaN                NaN              NaN   \n",
              "max        NaN   2056.000000         NaN                NaN              NaN   \n",
              "\n",
              "       Cell Phone Access  household_size  Respondent Age gender_of_respondent  \\\n",
              "count              23513    23496.000000    23490.000000                23490   \n",
              "unique                 2             NaN             NaN                    2   \n",
              "top                  Yes             NaN             NaN               Female   \n",
              "freq               17449             NaN             NaN                13859   \n",
              "mean                 NaN        3.681818       38.804300                  NaN   \n",
              "std                  NaN        2.279933       16.519996                  NaN   \n",
              "min                  NaN        0.000000       16.000000                  NaN   \n",
              "25%                  NaN        2.000000       26.000000                  NaN   \n",
              "50%                  NaN        3.000000       35.000000                  NaN   \n",
              "75%                  NaN        5.000000       49.000000                  NaN   \n",
              "max                  NaN       21.000000      100.000000                  NaN   \n",
              "\n",
              "       The relathip with head           marital_status Level of Educuation  \\\n",
              "count                   23520                    23492               23495   \n",
              "unique                      6                        5                   7   \n",
              "top         Head of Household  Married/Living together   Primary education   \n",
              "freq                    12829                    10739               12775   \n",
              "mean                      NaN                      NaN                 NaN   \n",
              "std                       NaN                      NaN                 NaN   \n",
              "min                       NaN                      NaN                 NaN   \n",
              "25%                       NaN                      NaN                 NaN   \n",
              "50%                       NaN                      NaN                 NaN   \n",
              "75%                       NaN                      NaN                 NaN   \n",
              "max                       NaN                      NaN                 NaN   \n",
              "\n",
              "          Type of Job  \n",
              "count           23494  \n",
              "unique             10  \n",
              "top     Self employed  \n",
              "freq             6428  \n",
              "mean              NaN  \n",
              "std               NaN  \n",
              "min               NaN  \n",
              "25%               NaN  \n",
              "50%               NaN  \n",
              "75%               NaN  \n",
              "max               NaN  "
            ],
            "text/html": [
              "\n",
              "  <div id=\"df-3801683f-2989-49d7-a628-0f6d990415d6\">\n",
              "    <div class=\"colab-df-container\">\n",
              "      <div>\n",
              "<style scoped>\n",
              "    .dataframe tbody tr th:only-of-type {\n",
              "        vertical-align: middle;\n",
              "    }\n",
              "\n",
              "    .dataframe tbody tr th {\n",
              "        vertical-align: top;\n",
              "    }\n",
              "\n",
              "    .dataframe thead th {\n",
              "        text-align: right;\n",
              "    }\n",
              "</style>\n",
              "<table border=\"1\" class=\"dataframe\">\n",
              "  <thead>\n",
              "    <tr style=\"text-align: right;\">\n",
              "      <th></th>\n",
              "      <th>country</th>\n",
              "      <th>year</th>\n",
              "      <th>uniqueid</th>\n",
              "      <th>Has a Bank account</th>\n",
              "      <th>Type of Location</th>\n",
              "      <th>Cell Phone Access</th>\n",
              "      <th>household_size</th>\n",
              "      <th>Respondent Age</th>\n",
              "      <th>gender_of_respondent</th>\n",
              "      <th>The relathip with head</th>\n",
              "      <th>marital_status</th>\n",
              "      <th>Level of Educuation</th>\n",
              "      <th>Type of Job</th>\n",
              "    </tr>\n",
              "  </thead>\n",
              "  <tbody>\n",
              "    <tr>\n",
              "      <th>count</th>\n",
              "      <td>23510</td>\n",
              "      <td>23524.000000</td>\n",
              "      <td>23524</td>\n",
              "      <td>23488</td>\n",
              "      <td>23509</td>\n",
              "      <td>23513</td>\n",
              "      <td>23496.000000</td>\n",
              "      <td>23490.000000</td>\n",
              "      <td>23490</td>\n",
              "      <td>23520</td>\n",
              "      <td>23492</td>\n",
              "      <td>23495</td>\n",
              "      <td>23494</td>\n",
              "    </tr>\n",
              "    <tr>\n",
              "      <th>unique</th>\n",
              "      <td>4</td>\n",
              "      <td>NaN</td>\n",
              "      <td>8735</td>\n",
              "      <td>2</td>\n",
              "      <td>2</td>\n",
              "      <td>2</td>\n",
              "      <td>NaN</td>\n",
              "      <td>NaN</td>\n",
              "      <td>2</td>\n",
              "      <td>6</td>\n",
              "      <td>5</td>\n",
              "      <td>7</td>\n",
              "      <td>10</td>\n",
              "    </tr>\n",
              "    <tr>\n",
              "      <th>top</th>\n",
              "      <td>Rwanda</td>\n",
              "      <td>NaN</td>\n",
              "      <td>uniqueid_1</td>\n",
              "      <td>No</td>\n",
              "      <td>Rural</td>\n",
              "      <td>Yes</td>\n",
              "      <td>NaN</td>\n",
              "      <td>NaN</td>\n",
              "      <td>Female</td>\n",
              "      <td>Head of Household</td>\n",
              "      <td>Married/Living together</td>\n",
              "      <td>Primary education</td>\n",
              "      <td>Self employed</td>\n",
              "    </tr>\n",
              "    <tr>\n",
              "      <th>freq</th>\n",
              "      <td>8735</td>\n",
              "      <td>NaN</td>\n",
              "      <td>4</td>\n",
              "      <td>20179</td>\n",
              "      <td>14338</td>\n",
              "      <td>17449</td>\n",
              "      <td>NaN</td>\n",
              "      <td>NaN</td>\n",
              "      <td>13859</td>\n",
              "      <td>12829</td>\n",
              "      <td>10739</td>\n",
              "      <td>12775</td>\n",
              "      <td>6428</td>\n",
              "    </tr>\n",
              "    <tr>\n",
              "      <th>mean</th>\n",
              "      <td>NaN</td>\n",
              "      <td>2016.979000</td>\n",
              "      <td>NaN</td>\n",
              "      <td>NaN</td>\n",
              "      <td>NaN</td>\n",
              "      <td>NaN</td>\n",
              "      <td>3.681818</td>\n",
              "      <td>38.804300</td>\n",
              "      <td>NaN</td>\n",
              "      <td>NaN</td>\n",
              "      <td>NaN</td>\n",
              "      <td>NaN</td>\n",
              "      <td>NaN</td>\n",
              "    </tr>\n",
              "    <tr>\n",
              "      <th>std</th>\n",
              "      <td>NaN</td>\n",
              "      <td>0.899669</td>\n",
              "      <td>NaN</td>\n",
              "      <td>NaN</td>\n",
              "      <td>NaN</td>\n",
              "      <td>NaN</td>\n",
              "      <td>2.279933</td>\n",
              "      <td>16.519996</td>\n",
              "      <td>NaN</td>\n",
              "      <td>NaN</td>\n",
              "      <td>NaN</td>\n",
              "      <td>NaN</td>\n",
              "      <td>NaN</td>\n",
              "    </tr>\n",
              "    <tr>\n",
              "      <th>min</th>\n",
              "      <td>NaN</td>\n",
              "      <td>2016.000000</td>\n",
              "      <td>NaN</td>\n",
              "      <td>NaN</td>\n",
              "      <td>NaN</td>\n",
              "      <td>NaN</td>\n",
              "      <td>0.000000</td>\n",
              "      <td>16.000000</td>\n",
              "      <td>NaN</td>\n",
              "      <td>NaN</td>\n",
              "      <td>NaN</td>\n",
              "      <td>NaN</td>\n",
              "      <td>NaN</td>\n",
              "    </tr>\n",
              "    <tr>\n",
              "      <th>25%</th>\n",
              "      <td>NaN</td>\n",
              "      <td>2016.000000</td>\n",
              "      <td>NaN</td>\n",
              "      <td>NaN</td>\n",
              "      <td>NaN</td>\n",
              "      <td>NaN</td>\n",
              "      <td>2.000000</td>\n",
              "      <td>26.000000</td>\n",
              "      <td>NaN</td>\n",
              "      <td>NaN</td>\n",
              "      <td>NaN</td>\n",
              "      <td>NaN</td>\n",
              "      <td>NaN</td>\n",
              "    </tr>\n",
              "    <tr>\n",
              "      <th>50%</th>\n",
              "      <td>NaN</td>\n",
              "      <td>2017.000000</td>\n",
              "      <td>NaN</td>\n",
              "      <td>NaN</td>\n",
              "      <td>NaN</td>\n",
              "      <td>NaN</td>\n",
              "      <td>3.000000</td>\n",
              "      <td>35.000000</td>\n",
              "      <td>NaN</td>\n",
              "      <td>NaN</td>\n",
              "      <td>NaN</td>\n",
              "      <td>NaN</td>\n",
              "      <td>NaN</td>\n",
              "    </tr>\n",
              "    <tr>\n",
              "      <th>75%</th>\n",
              "      <td>NaN</td>\n",
              "      <td>2018.000000</td>\n",
              "      <td>NaN</td>\n",
              "      <td>NaN</td>\n",
              "      <td>NaN</td>\n",
              "      <td>NaN</td>\n",
              "      <td>5.000000</td>\n",
              "      <td>49.000000</td>\n",
              "      <td>NaN</td>\n",
              "      <td>NaN</td>\n",
              "      <td>NaN</td>\n",
              "      <td>NaN</td>\n",
              "      <td>NaN</td>\n",
              "    </tr>\n",
              "    <tr>\n",
              "      <th>max</th>\n",
              "      <td>NaN</td>\n",
              "      <td>2056.000000</td>\n",
              "      <td>NaN</td>\n",
              "      <td>NaN</td>\n",
              "      <td>NaN</td>\n",
              "      <td>NaN</td>\n",
              "      <td>21.000000</td>\n",
              "      <td>100.000000</td>\n",
              "      <td>NaN</td>\n",
              "      <td>NaN</td>\n",
              "      <td>NaN</td>\n",
              "      <td>NaN</td>\n",
              "      <td>NaN</td>\n",
              "    </tr>\n",
              "  </tbody>\n",
              "</table>\n",
              "</div>\n",
              "      <button class=\"colab-df-convert\" onclick=\"convertToInteractive('df-3801683f-2989-49d7-a628-0f6d990415d6')\"\n",
              "              title=\"Convert this dataframe to an interactive table.\"\n",
              "              style=\"display:none;\">\n",
              "        \n",
              "  <svg xmlns=\"http://www.w3.org/2000/svg\" height=\"24px\"viewBox=\"0 0 24 24\"\n",
              "       width=\"24px\">\n",
              "    <path d=\"M0 0h24v24H0V0z\" fill=\"none\"/>\n",
              "    <path d=\"M18.56 5.44l.94 2.06.94-2.06 2.06-.94-2.06-.94-.94-2.06-.94 2.06-2.06.94zm-11 1L8.5 8.5l.94-2.06 2.06-.94-2.06-.94L8.5 2.5l-.94 2.06-2.06.94zm10 10l.94 2.06.94-2.06 2.06-.94-2.06-.94-.94-2.06-.94 2.06-2.06.94z\"/><path d=\"M17.41 7.96l-1.37-1.37c-.4-.4-.92-.59-1.43-.59-.52 0-1.04.2-1.43.59L10.3 9.45l-7.72 7.72c-.78.78-.78 2.05 0 2.83L4 21.41c.39.39.9.59 1.41.59.51 0 1.02-.2 1.41-.59l7.78-7.78 2.81-2.81c.8-.78.8-2.07 0-2.86zM5.41 20L4 18.59l7.72-7.72 1.47 1.35L5.41 20z\"/>\n",
              "  </svg>\n",
              "      </button>\n",
              "      \n",
              "  <style>\n",
              "    .colab-df-container {\n",
              "      display:flex;\n",
              "      flex-wrap:wrap;\n",
              "      gap: 12px;\n",
              "    }\n",
              "\n",
              "    .colab-df-convert {\n",
              "      background-color: #E8F0FE;\n",
              "      border: none;\n",
              "      border-radius: 50%;\n",
              "      cursor: pointer;\n",
              "      display: none;\n",
              "      fill: #1967D2;\n",
              "      height: 32px;\n",
              "      padding: 0 0 0 0;\n",
              "      width: 32px;\n",
              "    }\n",
              "\n",
              "    .colab-df-convert:hover {\n",
              "      background-color: #E2EBFA;\n",
              "      box-shadow: 0px 1px 2px rgba(60, 64, 67, 0.3), 0px 1px 3px 1px rgba(60, 64, 67, 0.15);\n",
              "      fill: #174EA6;\n",
              "    }\n",
              "\n",
              "    [theme=dark] .colab-df-convert {\n",
              "      background-color: #3B4455;\n",
              "      fill: #D2E3FC;\n",
              "    }\n",
              "\n",
              "    [theme=dark] .colab-df-convert:hover {\n",
              "      background-color: #434B5C;\n",
              "      box-shadow: 0px 1px 3px 1px rgba(0, 0, 0, 0.15);\n",
              "      filter: drop-shadow(0px 1px 2px rgba(0, 0, 0, 0.3));\n",
              "      fill: #FFFFFF;\n",
              "    }\n",
              "  </style>\n",
              "\n",
              "      <script>\n",
              "        const buttonEl =\n",
              "          document.querySelector('#df-3801683f-2989-49d7-a628-0f6d990415d6 button.colab-df-convert');\n",
              "        buttonEl.style.display =\n",
              "          google.colab.kernel.accessAllowed ? 'block' : 'none';\n",
              "\n",
              "        async function convertToInteractive(key) {\n",
              "          const element = document.querySelector('#df-3801683f-2989-49d7-a628-0f6d990415d6');\n",
              "          const dataTable =\n",
              "            await google.colab.kernel.invokeFunction('convertToInteractive',\n",
              "                                                     [key], {});\n",
              "          if (!dataTable) return;\n",
              "\n",
              "          const docLinkHtml = 'Like what you see? Visit the ' +\n",
              "            '<a target=\"_blank\" href=https://colab.research.google.com/notebooks/data_table.ipynb>data table notebook</a>'\n",
              "            + ' to learn more about interactive tables.';\n",
              "          element.innerHTML = '';\n",
              "          dataTable['output_type'] = 'display_data';\n",
              "          await google.colab.output.renderOutput(dataTable, element);\n",
              "          const docLink = document.createElement('div');\n",
              "          docLink.innerHTML = docLinkHtml;\n",
              "          element.appendChild(docLink);\n",
              "        }\n",
              "      </script>\n",
              "    </div>\n",
              "  </div>\n",
              "  "
            ]
          },
          "metadata": {},
          "execution_count": 16
        }
      ]
    },
    {
      "cell_type": "markdown",
      "metadata": {
        "id": "ckfufNrcUHeH"
      },
      "source": [
        "## 4. External Data Source Validation"
      ]
    },
    {
      "cell_type": "markdown",
      "metadata": {
        "id": "6L4sl_0WXlbg"
      },
      "source": [
        "Making sure your data matches something outside of the dataset is very important. It allows you to ensure that the measurements are roughly in line with what they should be and it serves as a check on what other things might be wrong in your dataset. "
      ]
    },
    {
      "cell_type": "markdown",
      "metadata": {
        "id": "6XC_g-zKxe-r"
      },
      "source": [
        "### a.Validation"
      ]
    },
    {
      "cell_type": "markdown",
      "metadata": {
        "id": "FlBMxEDBUc9B"
      },
      "source": [
        "## 5. Tidying the Dataset"
      ]
    },
    {
      "cell_type": "code",
      "metadata": {
        "id": "5o_bQcT5W3Wz",
        "colab": {
          "base_uri": "https://localhost:8080/",
          "height": 282
        },
        "outputId": "a144fddb-99e2-42e9-be9a-9ba731f9fc45"
      },
      "source": [
        "# Checking for Outliers in our data\n",
        "#\n",
        "\n",
        "finance.boxplot(['year'])"
      ],
      "execution_count": null,
      "outputs": [
        {
          "output_type": "execute_result",
          "data": {
            "text/plain": [
              "<matplotlib.axes._subplots.AxesSubplot at 0x7f647c148610>"
            ]
          },
          "metadata": {},
          "execution_count": 11
        },
        {
          "output_type": "display_data",
          "data": {
            "text/plain": [
              "<Figure size 432x288 with 1 Axes>"
            ],
            "image/png": "[encoded data removed]"
          },
          "metadata": {
            "needs_background": "light"
          }
        }
      ]
    },
    {
      "cell_type": "code",
      "source": [
        "# Checking outliers in our household size variable\n",
        "\n",
        "finance.boxplot(['household_size'])"
      ],
      "metadata": {
        "colab": {
          "base_uri": "https://localhost:8080/",
          "height": 283
        },
        "id": "K3I3VY6g6xNV",
        "outputId": "3e49b895-e7e6-47cd-a4c1-0e5187df73da"
      },
      "execution_count": null,
      "outputs": [
        {
          "output_type": "execute_result",
          "data": {
            "text/plain": [
              "<matplotlib.axes._subplots.AxesSubplot at 0x7f647c0ed310>"
            ]
          },
          "metadata": {},
          "execution_count": 12
        },
        {
          "output_type": "display_data",
          "data": {
            "text/plain": [
              "<Figure size 432x288 with 1 Axes>"
            ],
            "image/png": "[encoded data removed]"
          },
          "metadata": {
            "needs_background": "light"
          }
        }
      ]
    },
    {
      "cell_type": "code",
      "source": [
        "# Checking outliers in our respondent age variable.\n",
        "\n",
        "finance.boxplot(['Respondent Age'],)"
      ],
      "metadata": {
        "colab": {
          "base_uri": "https://localhost:8080/",
          "height": 282
        },
        "id": "NVi4u-Or62UA",
        "outputId": "33f99422-c341-4b63-b81c-c60f31c12ad5"
      },
      "execution_count": null,
      "outputs": [
        {
          "output_type": "execute_result",
          "data": {
            "text/plain": [
              "<matplotlib.axes._subplots.AxesSubplot at 0x7f647c00b550>"
            ]
          },
          "metadata": {},
          "execution_count": 13
        },
        {
          "output_type": "display_data",
          "data": {
            "text/plain": [
              "<Figure size 432x288 with 1 Axes>"
            ],
            "image/png": "[encoded data removed]"
          },
          "metadata": {
            "needs_background": "light"
          }
        }
      ]
    },
    {
      "cell_type": "markdown",
      "source": [
        "There are outliers in all the 3 continuous variables: year, household_size and respondent age. We will therefore remove them as they will affect our analysis."
      ],
      "metadata": {
        "id": "7p53_qmm-JCz"
      }
    },
    {
      "cell_type": "code",
      "metadata": {
        "id": "PWlukLKUvFQN",
        "colab": {
          "base_uri": "https://localhost:8080/"
        },
        "outputId": "bb4e63cb-dc13-43bf-a498-c6858b6bcb70"
      },
      "source": [
        "# Checking for Anomalies\n",
        "#\n",
        "\n",
        "Q1 = finance.quantile(0.25)\n",
        "Q3 = finance.quantile(0.75)\n",
        "\n",
        "print(Q1)\n",
        "print(Q3)\n",
        "\n",
        "IQR = Q3 - Q1\n",
        "print(IQR)\n",
        "\n",
        "lower_bound = Q1 - (1.5*IQR)\n",
        "upper_bound = Q3 + (1.5*IQR)\n",
        "\n",
        "print('Lower_Bound' +str(lower_bound))\n",
        "print('Upper_Bound' +str(upper_bound))"
      ],
      "execution_count": 6,
      "outputs": [
        {
          "output_type": "stream",
          "name": "stdout",
          "text": [
            "year              2016.0\n",
            "household_size       2.0\n",
            "Respondent Age      26.0\n",
            "Name: 0.25, dtype: float64\n",
            "year              2018.0\n",
            "household_size       5.0\n",
            "Respondent Age      49.0\n",
            "Name: 0.75, dtype: float64\n",
            "year               2.0\n",
            "household_size     3.0\n",
            "Respondent Age    23.0\n",
            "dtype: float64\n",
            "Lower_Boundyear              2013.0\n",
            "household_size      -2.5\n",
            "Respondent Age      -8.5\n",
            "dtype: float64\n",
            "Upper_Boundyear              2021.0\n",
            "household_size       9.5\n",
            "Respondent Age      83.5\n",
            "dtype: float64\n"
          ]
        }
      ]
    },
    {
      "cell_type": "code",
      "source": [
        "# Dealing and removing outliers\n",
        "\n",
        "NEWfinance = finance[~((finance < (Q1 - 1.5 * IQR)) |(finance > (Q3 + 1.5 * IQR))).any(axis=1)]\n",
        "\n",
        "NEWfinance.shape"
      ],
      "metadata": {
        "colab": {
          "base_uri": "https://localhost:8080/"
        },
        "id": "vjsgyc7H-SE1",
        "outputId": "9f9e484b-c598-45a4-b527-30fcca765859"
      },
      "execution_count": 7,
      "outputs": [
        {
          "output_type": "stream",
          "name": "stderr",
          "text": [
            "/usr/local/lib/python3.7/dist-packages/ipykernel_launcher.py:3: FutureWarning: Automatic reindexing on DataFrame vs Series comparisons is deprecated and will raise ValueError in a future version.  Do `left, right = left.align(right, axis=1, copy=False)` before e.g. `left == right`\n",
            "  This is separate from the ipykernel package so we can avoid doing imports until\n"
          ]
        },
        {
          "output_type": "execute_result",
          "data": {
            "text/plain": [
              "(22903, 13)"
            ]
          },
          "metadata": {},
          "execution_count": 7
        }
      ]
    },
    {
      "cell_type": "markdown",
      "source": [
        "After dealing with the outliers we remain with 22903 rows. This is a small reduction and therefore I choose to use the new data as outlier greatly affect the measuresof central tendency."
      ],
      "metadata": {
        "id": "frdWzDgeDvf4"
      }
    },
    {
      "cell_type": "code",
      "metadata": {
        "id": "PvCYb6dgW4yh",
        "colab": {
          "base_uri": "https://localhost:8080/"
        },
        "outputId": "d0041a24-a17a-43a9-f9c3-564b035502a9"
      },
      "source": [
        "# Identifying the Missing Data\n",
        "#\n",
        "NEWfinance.isnull().sum()"
      ],
      "execution_count": null,
      "outputs": [
        {
          "output_type": "execute_result",
          "data": {
            "text/plain": [
              "country                   14\n",
              "year                       0\n",
              "uniqueid                   0\n",
              "Has a Bank account        36\n",
              "Type of Location          15\n",
              "Cell Phone Access         11\n",
              "household_size            27\n",
              "Respondent Age            33\n",
              "gender_of_respondent      33\n",
              "The relathip with head     4\n",
              "marital_status            31\n",
              "Level of Educuation       29\n",
              "Type of Job               30\n",
              "dtype: int64"
            ]
          },
          "metadata": {},
          "execution_count": 21
        }
      ]
    },
    {
      "cell_type": "markdown",
      "source": [
        "All fields have missing values except the year and uniquedid columns."
      ],
      "metadata": {
        "id": "X3F89Li1DhAC"
      }
    },
    {
      "cell_type": "code",
      "source": [
        "# Dealing with the Missing Data\n",
        "# The following lines of codes are meant to repalce missing values with mean for continous variables and mode for categorical variables.\n",
        "\n",
        "NEWfinance['country'].fillna(NEWfinance['country'].mode()[0], inplace=True)\n",
        "NEWfinance['Has a Bank account'].fillna(NEWfinance['Has a Bank account'].mode()[0], inplace=True)\n",
        "NEWfinance['Type of Location'].fillna(NEWfinance['Type of Location'].mode()[0], inplace=True)\n",
        "NEWfinance['Cell Phone Access'].fillna(NEWfinance['Cell Phone Access'].mode()[0], inplace=True)\n",
        "NEWfinance['household_size'].fillna(NEWfinance['household_size'].mean(), inplace=True)\n",
        "NEWfinance['Respondent Age'].fillna(NEWfinance['Respondent Age'].mean(), inplace=True)\n",
        "NEWfinance['gender_of_respondent'].fillna(NEWfinance['gender_of_respondent'].mode()[0], inplace=True)\n",
        "NEWfinance['The relathip with head'].fillna(NEWfinance['The relathip with head'].mode()[0], inplace=True)\n",
        "NEWfinance['marital_status'].fillna(NEWfinance['marital_status'].mode()[0], inplace=True)\n",
        "NEWfinance['Level of Educuation'].fillna(NEWfinance['Level of Educuation'].mode()[0], inplace=True)\n",
        "NEWfinance['Type of Job'].fillna(NEWfinance['Type of Job'].mode()[0], inplace=True)"
      ],
      "metadata": {
        "id": "qhpz2T2JDejn"
      },
      "execution_count": 57,
      "outputs": []
    },
    {
      "cell_type": "code",
      "metadata": {
        "id": "MpsDGKZHsf_W",
        "colab": {
          "base_uri": "https://localhost:8080/"
        },
        "outputId": "fd5b2ba9-dd5f-464f-a022-3ccaa4c1da36"
      },
      "source": [
        "# Checking for missing data after dealing with missing values\n",
        "#\n",
        "\n",
        "NEWfinance.isnull().sum()"
      ],
      "execution_count": 58,
      "outputs": [
        {
          "output_type": "execute_result",
          "data": {
            "text/plain": [
              "country                   0\n",
              "year                      0\n",
              "uniqueid                  0\n",
              "Has a Bank account        0\n",
              "Type of Location          0\n",
              "Cell Phone Access         0\n",
              "household_size            0\n",
              "Respondent Age            0\n",
              "gender_of_respondent      0\n",
              "The relathip with head    0\n",
              "marital_status            0\n",
              "Level of Educuation       0\n",
              "Type of Job               0\n",
              "dtype: int64"
            ]
          },
          "metadata": {},
          "execution_count": 58
        }
      ]
    },
    {
      "cell_type": "code",
      "metadata": {
        "id": "D-4I__6Os4C5",
        "colab": {
          "base_uri": "https://localhost:8080/"
        },
        "outputId": "9e67e0da-f93a-412a-ec2f-3463a240637c"
      },
      "source": [
        "# Checking for duplicates\n",
        "#\n",
        "NEWfinance.duplicated().sum()"
      ],
      "execution_count": null,
      "outputs": [
        {
          "output_type": "execute_result",
          "data": {
            "text/plain": [
              "0"
            ]
          },
          "metadata": {},
          "execution_count": 27
        }
      ]
    },
    {
      "cell_type": "markdown",
      "source": [
        "There is no dulicated data."
      ],
      "metadata": {
        "id": "5bFJS1M5Jmot"
      }
    },
    {
      "cell_type": "code",
      "source": [
        "# we use the to_csv function to create a csv file with the name example \n",
        "# and export it\n",
        "#\n",
        "\n",
        "NEWfinance.to_csv('financeEA.csv')"
      ],
      "metadata": {
        "id": "PIElO1wpLUFQ"
      },
      "execution_count": 8,
      "outputs": []
    },
    {
      "cell_type": "code",
      "source": [
        "# Loading and reading the data from our CSV\n",
        "# Creating a new dataframe df1 and checking its shape\n",
        "\n",
        "financeEA=pd.read_csv('financeEA.csv')\n",
        "\n",
        "financeEA.shape"
      ],
      "metadata": {
        "colab": {
          "base_uri": "https://localhost:8080/"
        },
        "id": "mvaRWscFLthy",
        "outputId": "ed517afe-7147-4170-cf6a-4e3e2a0a03cc"
      },
      "execution_count": 13,
      "outputs": [
        {
          "output_type": "execute_result",
          "data": {
            "text/plain": [
              "(22903, 14)"
            ]
          },
          "metadata": {},
          "execution_count": 13
        }
      ]
    },
    {
      "cell_type": "markdown",
      "metadata": {
        "id": "rF2ABPsHUtbZ"
      },
      "source": [
        "## 6. Exploratory Analysis"
      ]
    },
    {
      "cell_type": "markdown",
      "source": [
        "## Univariate Analysis"
      ],
      "metadata": {
        "id": "7-Q2vQ0sJ7i5"
      }
    },
    {
      "cell_type": "markdown",
      "source": [
        "Categorical Variable\n",
        "1. Frequency Tables\n",
        "2. Bar charts and Histograms\n",
        "3. Pie charts"
      ],
      "metadata": {
        "id": "9Xie4ne7VN2V"
      }
    },
    {
      "cell_type": "code",
      "source": [
        "# Frequencies of gender of respondents.\n",
        "\n",
        "financeEA['gender_of_respondent'].value_counts()"
      ],
      "metadata": {
        "colab": {
          "base_uri": "https://localhost:8080/"
        },
        "id": "z6vogrumZjXv",
        "outputId": "8951384a-1e85-4126-ea4f-41378405dd86"
      },
      "execution_count": null,
      "outputs": [
        {
          "output_type": "execute_result",
          "data": {
            "text/plain": [
              "Female    13521\n",
              "Male       9382\n",
              "Name: gender_of_respondent, dtype: int64"
            ]
          },
          "metadata": {},
          "execution_count": 38
        }
      ]
    },
    {
      "cell_type": "code",
      "source": [
        "# frequencies of cell phone access\n",
        "\n",
        "financeEA['Cell Phone Access'].value_counts()"
      ],
      "metadata": {
        "colab": {
          "base_uri": "https://localhost:8080/"
        },
        "id": "nQWIbnWFYQc1",
        "outputId": "02bcaa7b-7540-4c30-ce41-893990996c3d"
      },
      "execution_count": null,
      "outputs": [
        {
          "output_type": "execute_result",
          "data": {
            "text/plain": [
              "Yes    17110\n",
              "No      5793\n",
              "Name: Cell Phone Access, dtype: int64"
            ]
          },
          "metadata": {},
          "execution_count": 35
        }
      ]
    },
    {
      "cell_type": "code",
      "metadata": {
        "id": "5nnRToniXGDK",
        "colab": {
          "base_uri": "https://localhost:8080/"
        },
        "outputId": "f9ab88a6-38d9-4be6-fd58-22933ea95ee3"
      },
      "source": [
        "# frequencies of 'has a bank account'\n",
        "\n",
        "financeEA['Has a Bank account'].value_counts()"
      ],
      "execution_count": null,
      "outputs": [
        {
          "output_type": "execute_result",
          "data": {
            "text/plain": [
              "No     19656\n",
              "Yes     3247\n",
              "Name: Has a Bank account, dtype: int64"
            ]
          },
          "metadata": {},
          "execution_count": 34
        }
      ]
    },
    {
      "cell_type": "code",
      "source": [
        "# frequencies of 'level of education'\n",
        "\n",
        "financeEA['Level of Educuation'].value_counts()"
      ],
      "metadata": {
        "colab": {
          "base_uri": "https://localhost:8080/"
        },
        "id": "1fEdadiOaFXI",
        "outputId": "c4bec43f-3da0-48bc-fc44-7ed0f52855f7"
      },
      "execution_count": null,
      "outputs": [
        {
          "output_type": "execute_result",
          "data": {
            "text/plain": [
              "Primary education                  12556\n",
              "No formal education                 4270\n",
              "Secondary education                 4113\n",
              "Tertiary education                  1146\n",
              "Vocational/Specialised training      787\n",
              "6                                     25\n",
              "Other/Dont know/RTA                    6\n",
              "Name: Level of Educuation, dtype: int64"
            ]
          },
          "metadata": {},
          "execution_count": 42
        }
      ]
    },
    {
      "cell_type": "code",
      "source": [
        "# plotting a bar chart for 'type of job'\n",
        "\n",
        "financeEA['Type of Job'].value_counts().plot.bar(title='Type of Job')\n"
      ],
      "metadata": {
        "colab": {
          "base_uri": "https://localhost:8080/",
          "height": 449
        },
        "id": "bzudgAggbg_Y",
        "outputId": "d6067d72-de3d-4dcf-e84f-602f508b06d0"
      },
      "execution_count": null,
      "outputs": [
        {
          "output_type": "execute_result",
          "data": {
            "text/plain": [
              "<matplotlib.axes._subplots.AxesSubplot at 0x7f647b9a83d0>"
            ]
          },
          "metadata": {},
          "execution_count": 46
        },
        {
          "output_type": "display_data",
          "data": {
            "text/plain": [
              "<Figure size 432x288 with 1 Axes>"
            ],
            "image/png": "[encoded data removed]"
          },
          "metadata": {
            "needs_background": "light"
          }
        }
      ]
    },
    {
      "cell_type": "code",
      "source": [
        "# plotting bar chart for 'marital status'\n",
        "\n",
        "financeEA['marital_status'].value_counts().plot.bar(title='marital Status')"
      ],
      "metadata": {
        "colab": {
          "base_uri": "https://localhost:8080/",
          "height": 406
        },
        "id": "GUaxAiM5b9yr",
        "outputId": "97dbd8df-3ac7-4c12-841d-5fd66b956bb6"
      },
      "execution_count": null,
      "outputs": [
        {
          "output_type": "execute_result",
          "data": {
            "text/plain": [
              "<matplotlib.axes._subplots.AxesSubplot at 0x7f647b789e90>"
            ]
          },
          "metadata": {},
          "execution_count": 50
        },
        {
          "output_type": "display_data",
          "data": {
            "text/plain": [
              "<Figure size 432x288 with 1 Axes>"
            ],
            "image/png": "[encoded data removed]"
          },
          "metadata": {
            "needs_background": "light"
          }
        }
      ]
    },
    {
      "cell_type": "code",
      "source": [
        "# Plotting a histogram for 'relationship with head'\n",
        "\n",
        "relations=financeEA['The relathip with head']\n",
        "\n",
        "plt.hist(relations, bins=10, histtype='bar', rwidth=0.9)\n",
        "plt.xlabel('x')\n",
        "plt.ylabel('y')\n",
        "plt.title('Histogram of relationships')\n",
        "plt.show()"
      ],
      "metadata": {
        "colab": {
          "base_uri": "https://localhost:8080/",
          "height": 295
        },
        "id": "UULIWkdyeAjX",
        "outputId": "eadffd6f-63e5-42cc-9859-051994bee727"
      },
      "execution_count": null,
      "outputs": [
        {
          "output_type": "display_data",
          "data": {
            "text/plain": [
              "<Figure size 432x288 with 1 Axes>"
            ],
            "image/png": "[encoded data removed]"
          },
          "metadata": {
            "needs_background": "light"
          }
        }
      ]
    },
    {
      "cell_type": "code",
      "source": [
        "# Plotting a pie chart for the country\n",
        "\n",
        "# Defining our labels, sizes, colors and explode \n",
        "countries = financeEA['country'].value_counts()\n",
        "colors = ['yellow', 'blue', 'green', 'gold']\n",
        "\n",
        "# Highlights a particular Value in plot\n",
        "explode = (0.1, 0.1, 0, 0)  \n",
        "\n",
        "# Plotting our pie chart\n",
        "plt.pie(countries, explode=explode, labels=countries, colors=colors, autopct='%1.1f%%', shadow=True, startangle=140)\n",
        "\n",
        "plt.axis('equal')\n",
        "plt.title('Pie Chart of Countries')\n",
        "plt.show()"
      ],
      "metadata": {
        "colab": {
          "base_uri": "https://localhost:8080/",
          "height": 264
        },
        "id": "o-739Z_DeV94",
        "outputId": "da67f380-4ba9-4457-ef77-272bb1fc7fad"
      },
      "execution_count": null,
      "outputs": [
        {
          "output_type": "display_data",
          "data": {
            "text/plain": [
              "<Figure size 432x288 with 1 Axes>"
            ],
            "image/png": "[encoded data removed]"
          },
          "metadata": {}
        }
      ]
    },
    {
      "cell_type": "markdown",
      "source": [
        "Numerical Variables"
      ],
      "metadata": {
        "id": "iBXvOhlirT-k"
      }
    },
    {
      "cell_type": "markdown",
      "source": [
        "Measures of central tendency\n",
        "1. Mean\n",
        "2. Mode \n",
        "3. Median"
      ],
      "metadata": {
        "id": "unFyI_oPrXon"
      }
    },
    {
      "cell_type": "markdown",
      "source": [
        "Mean or Average is a central tendency of the data i.e. a number around which a whole data is spread out. In a way, it is a single number which can estimate the value of whole data set."
      ],
      "metadata": {
        "id": "VhanzdAru9S0"
      }
    },
    {
      "cell_type": "code",
      "source": [
        "# finding mean of household size\n",
        "\n",
        "financeEA['household_size'].mean()"
      ],
      "metadata": {
        "colab": {
          "base_uri": "https://localhost:8080/"
        },
        "id": "pKmjXRlUsUuE",
        "outputId": "c5c6d9a1-9626-41ed-c790-803c0b34ddf6"
      },
      "execution_count": null,
      "outputs": [
        {
          "output_type": "execute_result",
          "data": {
            "text/plain": [
              "3.5733956985486985"
            ]
          },
          "metadata": {},
          "execution_count": 90
        }
      ]
    },
    {
      "cell_type": "code",
      "source": [
        "# finding mean of respondents age\n",
        "\n",
        "financeEA['Respondent Age'].mean()"
      ],
      "metadata": {
        "colab": {
          "base_uri": "https://localhost:8080/"
        },
        "id": "ZtWa15P3sXSq",
        "outputId": "f34b9191-22b0-498e-8e67-3876b9ba36b8"
      },
      "execution_count": null,
      "outputs": [
        {
          "output_type": "execute_result",
          "data": {
            "text/plain": [
              "38.345080891998215"
            ]
          },
          "metadata": {},
          "execution_count": 91
        }
      ]
    },
    {
      "cell_type": "markdown",
      "source": [
        "Mode is the term appearing maximum time in data set i.e. term that has highest frequency."
      ],
      "metadata": {
        "id": "XqguJC8yvNsw"
      }
    },
    {
      "cell_type": "code",
      "source": [
        "# finding mode of household size\n",
        "\n",
        "financeEA['household_size'].mode()"
      ],
      "metadata": {
        "colab": {
          "base_uri": "https://localhost:8080/"
        },
        "id": "i8UJw6RrtY71",
        "outputId": "7761df14-49e6-4e06-a800-fe8392ed399b"
      },
      "execution_count": null,
      "outputs": [
        {
          "output_type": "execute_result",
          "data": {
            "text/plain": [
              "0    2.0\n",
              "dtype: float64"
            ]
          },
          "metadata": {},
          "execution_count": 93
        }
      ]
    },
    {
      "cell_type": "code",
      "source": [
        "# finding mode of respondents age\n",
        "\n",
        "financeEA['Respondent Age'].mode()"
      ],
      "metadata": {
        "colab": {
          "base_uri": "https://localhost:8080/"
        },
        "id": "uxYjFcwBtlmh",
        "outputId": "d308e0e3-832c-4818-acfc-cf373f960a52"
      },
      "execution_count": null,
      "outputs": [
        {
          "output_type": "execute_result",
          "data": {
            "text/plain": [
              "0    30.0\n",
              "dtype: float64"
            ]
          },
          "metadata": {},
          "execution_count": 94
        }
      ]
    },
    {
      "cell_type": "markdown",
      "source": [
        "Median is the value which divides the data in 2 equal parts i.e. number of terms on right side of it is same as number of terms on left side of it when data is arranged in either ascending or descending order."
      ],
      "metadata": {
        "id": "uCZL81jbvVXF"
      }
    },
    {
      "cell_type": "code",
      "source": [
        "# finding the median age of respondents\n",
        "\n",
        "financeEA['Respondent Age'].median()"
      ],
      "metadata": {
        "colab": {
          "base_uri": "https://localhost:8080/"
        },
        "id": "11bte27tuajx",
        "outputId": "519200f7-e3d6-420a-d19a-b1dee50f0108"
      },
      "execution_count": null,
      "outputs": [
        {
          "output_type": "execute_result",
          "data": {
            "text/plain": [
              "35.0"
            ]
          },
          "metadata": {},
          "execution_count": 97
        }
      ]
    },
    {
      "cell_type": "code",
      "source": [
        "# finding the median household size\n",
        "\n",
        "financeEA['household_size'].median()"
      ],
      "metadata": {
        "colab": {
          "base_uri": "https://localhost:8080/"
        },
        "id": "t-SSKP-BuodE",
        "outputId": "7c5e769d-2d28-4e47-b440-a18ec33188ef"
      },
      "execution_count": null,
      "outputs": [
        {
          "output_type": "execute_result",
          "data": {
            "text/plain": [
              "3.0"
            ]
          },
          "metadata": {},
          "execution_count": 98
        }
      ]
    },
    {
      "cell_type": "markdown",
      "source": [
        "Measures of Dispersion\n",
        "\n",
        "1.Standard Deviation\n",
        "2.Variance\n",
        "3.Range\n",
        "4.Skewness\n",
        "5.Quantiles\n",
        "6.Kurtosis"
      ],
      "metadata": {
        "id": "ngLSehjywUHn"
      }
    },
    {
      "cell_type": "markdown",
      "source": [
        "Standard deviation (SD) is the measurement of average distance between each quantity and mean."
      ],
      "metadata": {
        "id": "23Z1hoyKxmrN"
      }
    },
    {
      "cell_type": "code",
      "source": [
        "# finding the SD of repondents age\n",
        "\n",
        "financeEA['Respondent Age'].std()\n",
        "\n",
        "# The respondents age are more spread out from the mean "
      ],
      "metadata": {
        "colab": {
          "base_uri": "https://localhost:8080/"
        },
        "id": "bStQaOr4x1fZ",
        "outputId": "8b03d975-4aaf-4291-ce41-67ec734ad9d6"
      },
      "execution_count": null,
      "outputs": [
        {
          "output_type": "execute_result",
          "data": {
            "text/plain": [
              "15.792632474845702"
            ]
          },
          "metadata": {},
          "execution_count": 104
        }
      ]
    },
    {
      "cell_type": "code",
      "source": [
        "# finding the SD of household size \n",
        "\n",
        "financeEA['household_size'].std()\n",
        "\n",
        "# The household size data is close to its mean"
      ],
      "metadata": {
        "colab": {
          "base_uri": "https://localhost:8080/"
        },
        "id": "SPuKen2ax7kr",
        "outputId": "c09802ed-09d6-4952-b52c-ced8bff16812"
      },
      "execution_count": null,
      "outputs": [
        {
          "output_type": "execute_result",
          "data": {
            "text/plain": [
              "2.078556853919515"
            ]
          },
          "metadata": {},
          "execution_count": 102
        }
      ]
    },
    {
      "cell_type": "markdown",
      "source": [
        "Variance is a square of average distance between each quantity and mean. \n",
        "That is it is square of standard deviation. It is a measure of how dispersed or spread out the set is, "
      ],
      "metadata": {
        "id": "LgdApWnozSLN"
      }
    },
    {
      "cell_type": "code",
      "source": [
        "# finding the variance of household size\n",
        "\n",
        "financeEA['household_size'].var()\n",
        "\n",
        "# the household size variable is close to the mean and the numbers are close to each other "
      ],
      "metadata": {
        "colab": {
          "base_uri": "https://localhost:8080/"
        },
        "id": "OlHkvnbc2qtT",
        "outputId": "043ec89d-06d4-46b6-b810-1b7e04d13484"
      },
      "execution_count": null,
      "outputs": [
        {
          "output_type": "execute_result",
          "data": {
            "text/plain": [
              "4.320398594975792"
            ]
          },
          "metadata": {},
          "execution_count": 106
        }
      ]
    },
    {
      "cell_type": "code",
      "source": [
        "# finding variance of respondents age\n",
        "\n",
        "financeEA['Respondent Age'].var()\n",
        "\n",
        "# the respondents ages are further spread out from the mean and the numbers are not as close to each as those with a lower varaince"
      ],
      "metadata": {
        "colab": {
          "base_uri": "https://localhost:8080/"
        },
        "id": "-jiNDJlz28TI",
        "outputId": "bc59fe34-456f-495c-9dad-f5254727c7cf"
      },
      "execution_count": null,
      "outputs": [
        {
          "output_type": "execute_result",
          "data": {
            "text/plain": [
              "249.40724048555106"
            ]
          },
          "metadata": {},
          "execution_count": 107
        }
      ]
    },
    {
      "cell_type": "markdown",
      "source": [
        "Range is the difference between lowest and highest value."
      ],
      "metadata": {
        "id": "DkeYlZUC3Rqb"
      }
    },
    {
      "cell_type": "code",
      "source": [
        "# Finding the min and max values of the household size variable\n",
        "\n",
        "financeEA_max = financeEA['household_size'].max()\n",
        "financeEA_min = financeEA['household_size'].min()\n",
        "\n",
        "# Calculating the range\n",
        "financeEA_max - financeEA_min"
      ],
      "metadata": {
        "colab": {
          "base_uri": "https://localhost:8080/"
        },
        "id": "orNoHbwY5a_1",
        "outputId": "cd9028ef-72a7-4f7d-8f75-a84651212823"
      },
      "execution_count": null,
      "outputs": [
        {
          "output_type": "execute_result",
          "data": {
            "text/plain": [
              "9.0"
            ]
          },
          "metadata": {},
          "execution_count": 109
        }
      ]
    },
    {
      "cell_type": "code",
      "source": [
        "# Finding the min and max values of the year variable\n",
        "\n",
        "financeEA_max = financeEA['Respondent Age'].max()\n",
        "financeEA_min = financeEA['Respondent Age'].min()\n",
        "\n",
        "# Calculating the range\n",
        "financeEA_max - financeEA_min"
      ],
      "metadata": {
        "colab": {
          "base_uri": "https://localhost:8080/"
        },
        "id": "JSsDa7vk5xFj",
        "outputId": "b606e54f-f262-4080-deab-1b38336fb778"
      },
      "execution_count": null,
      "outputs": [
        {
          "output_type": "execute_result",
          "data": {
            "text/plain": [
              "67.0"
            ]
          },
          "metadata": {},
          "execution_count": 110
        }
      ]
    },
    {
      "cell_type": "markdown",
      "source": [
        "Skewness is a measure of the asymmetry of the probability distribution \n",
        "of a real-valued random variable about its mean. The skewness value can be positive or negative, or undefined."
      ],
      "metadata": {
        "id": "CZtc4PSS58LR"
      }
    },
    {
      "cell_type": "code",
      "source": [
        "# determining skewness of household size\n",
        "\n",
        "financeEA['household_size'].skew()\n",
        "\n",
        "# the household size data is positely skewed and equal to o meaning a normal distribution is assumed."
      ],
      "metadata": {
        "colab": {
          "base_uri": "https://localhost:8080/"
        },
        "id": "ydGZbC9o7b5f",
        "outputId": "0359065a-6463-42e0-db29-72cd1f7107b4"
      },
      "execution_count": null,
      "outputs": [
        {
          "output_type": "execute_result",
          "data": {
            "text/plain": [
              "0.6110930989257479"
            ]
          },
          "metadata": {},
          "execution_count": 112
        }
      ]
    },
    {
      "cell_type": "code",
      "source": [
        "# determining the skewness of the respondents age\n",
        "\n",
        "financeEA['Respondent Age'].skew()\n",
        "\n",
        "# the respondents age data is positive skewed and equal to 0 meaning a normal distribution is assumed"
      ],
      "metadata": {
        "colab": {
          "base_uri": "https://localhost:8080/"
        },
        "id": "QpjAWYB073O6",
        "outputId": "ac2bc152-1c7e-47e2-c279-cbd6a6a5eb5a"
      },
      "execution_count": null,
      "outputs": [
        {
          "output_type": "execute_result",
          "data": {
            "text/plain": [
              "0.7415098242614647"
            ]
          },
          "metadata": {},
          "execution_count": 113
        }
      ]
    },
    {
      "cell_type": "markdown",
      "source": [
        "Quartiles are values that divide your data into quarters provided data is sorted in an ascending order. There are three quartile values.\n",
        "First quartile value is at 25 percentile. Second quartile is 50 percentile and third quartile is 75 percentile. \n",
        "Second quartile (Q2) is median of the whole data. First quartile (Q1) is median of upper half of the data. Third Quartile (Q3) is median of lower half of the data."
      ],
      "metadata": {
        "id": "y077FKS7BFDv"
      }
    },
    {
      "cell_type": "code",
      "source": [
        "# finding the quatiles of household size\n",
        "\n",
        "financeEA['household_size'].quantile([0.25,0.5,0.75])"
      ],
      "metadata": {
        "colab": {
          "base_uri": "https://localhost:8080/"
        },
        "id": "bkJ-qKO5CV0Q",
        "outputId": "603714b8-082e-4d73-b644-44f4423c8922"
      },
      "execution_count": null,
      "outputs": [
        {
          "output_type": "execute_result",
          "data": {
            "text/plain": [
              "0.25    2.0\n",
              "0.50    3.0\n",
              "0.75    5.0\n",
              "Name: household_size, dtype: float64"
            ]
          },
          "metadata": {},
          "execution_count": 118
        }
      ]
    },
    {
      "cell_type": "code",
      "source": [
        "# finding the quatiles of the respondents age\n",
        "\n",
        "financeEA['Respondent Age'].quantile([0.25,0.5,0.75])"
      ],
      "metadata": {
        "colab": {
          "base_uri": "https://localhost:8080/"
        },
        "id": "RtSN3HU7C_Qh",
        "outputId": "a6e1a282-5734-443f-d463-08fe2e5c766b"
      },
      "execution_count": null,
      "outputs": [
        {
          "output_type": "execute_result",
          "data": {
            "text/plain": [
              "0.25    26.0\n",
              "0.50    35.0\n",
              "0.75    48.0\n",
              "Name: Respondent Age, dtype: float64"
            ]
          },
          "metadata": {},
          "execution_count": 119
        }
      ]
    },
    {
      "cell_type": "markdown",
      "source": [
        "Kurtosis is a measure of whether the data are heavy-tailed or light-tailed (lack of outliers) relative to a normal distribution."
      ],
      "metadata": {
        "id": "jFvfD7p08Z4s"
      }
    },
    {
      "cell_type": "code",
      "source": [
        "# determining the kurtosis of household size\n",
        "\n",
        "financeEA['household_size'].kurt()\n",
        "\n",
        "# the kurtosis is less than zero, then the distribution is light tailed resulting in fewer extreme positive or negative events."
      ],
      "metadata": {
        "colab": {
          "base_uri": "https://localhost:8080/"
        },
        "id": "zQCSvG6FAC_k",
        "outputId": "56b58a3d-ffed-490b-f0c6-03fa771b039c"
      },
      "execution_count": null,
      "outputs": [
        {
          "output_type": "execute_result",
          "data": {
            "text/plain": [
              "-0.49635260958004856"
            ]
          },
          "metadata": {},
          "execution_count": 115
        }
      ]
    },
    {
      "cell_type": "code",
      "source": [
        "# determining the kurtosis of respondents age\n",
        "\n",
        "financeEA['Respondent Age'].kurt()\n",
        "\n",
        "# the kurtosis is less than zero, then the distribution is light tailed resulting in fewer extreme positive or negative events."
      ],
      "metadata": {
        "colab": {
          "base_uri": "https://localhost:8080/"
        },
        "id": "IODlXeDFAwHE",
        "outputId": "6a9f464f-9534-4c41-bbf3-1f9a40e9a7d1"
      },
      "execution_count": null,
      "outputs": [
        {
          "output_type": "execute_result",
          "data": {
            "text/plain": [
              "-0.2323574017276666"
            ]
          },
          "metadata": {},
          "execution_count": 116
        }
      ]
    },
    {
      "cell_type": "markdown",
      "source": [
        "##Bivariate Analysis"
      ],
      "metadata": {
        "id": "0dhcHcNDDjZh"
      }
    },
    {
      "cell_type": "markdown",
      "source": [
        "Numerical Data"
      ],
      "metadata": {
        "id": "RAWFWAfsbkOt"
      }
    },
    {
      "cell_type": "code",
      "source": [
        "# Using Pandas Plotting our scatterplot to compare the variables\n",
        "\n",
        "financeEA.plot(x = 'Respondent Age', y ='household_size' , kind='scatter')\n",
        "\n",
        "# The scatter plot shows there's no correlation between the ages of the respondents and the household size."
      ],
      "metadata": {
        "id": "rdE5gKCZD02i",
        "colab": {
          "base_uri": "https://localhost:8080/",
          "height": 296
        },
        "outputId": "06ff4e91-b35b-4f99-c3d2-b63b41ada2a7"
      },
      "execution_count": null,
      "outputs": [
        {
          "output_type": "execute_result",
          "data": {
            "text/plain": [
              "<matplotlib.axes._subplots.AxesSubplot at 0x7f4d73aa3fd0>"
            ]
          },
          "metadata": {},
          "execution_count": 12
        },
        {
          "output_type": "display_data",
          "data": {
            "text/plain": [
              "<Figure size 432x288 with 1 Axes>"
            ],
            "image/png": "[encoded data removed]"
          },
          "metadata": {
            "needs_background": "light"
          }
        }
      ]
    },
    {
      "cell_type": "code",
      "source": [
        "# Calculating the pearson correlation coefficient\n",
        "\n",
        "coeff = financeEA['Respondent Age'].corr(financeEA['household_size']) \n",
        "\n",
        "print(coeff)\n",
        "\n",
        "# There is a inverse correlation between age of respondents and the household size\n",
        "# this means when the respondents age increases the households size decreases and viceversa"
      ],
      "metadata": {
        "colab": {
          "base_uri": "https://localhost:8080/"
        },
        "id": "GoHs0X5jd5ZE",
        "outputId": "da4d993f-dc91-4f76-88a6-3d546649cc52"
      },
      "execution_count": null,
      "outputs": [
        {
          "output_type": "stream",
          "name": "stdout",
          "text": [
            "-0.10623942590329913\n"
          ]
        }
      ]
    },
    {
      "cell_type": "code",
      "source": [
        "# generating a heatmap for the numerical variables\n",
        "\n",
        "sns.heatmap(financeEA.corr(),annot=True)\n",
        "plt.show()"
      ],
      "metadata": {
        "colab": {
          "base_uri": "https://localhost:8080/",
          "height": 341
        },
        "id": "IMh79GImf7ks",
        "outputId": "3c2ef1fa-75af-4289-997c-f587788ed344"
      },
      "execution_count": null,
      "outputs": [
        {
          "output_type": "display_data",
          "data": {
            "text/plain": [
              "<Figure size 432x288 with 2 Axes>"
            ],
            "image/png": "[encoded data removed]"
          },
          "metadata": {
            "needs_background": "light"
          }
        }
      ]
    },
    {
      "cell_type": "markdown",
      "source": [
        "Categorical Data"
      ],
      "metadata": {
        "id": "THOKEDHvhm6J"
      }
    },
    {
      "cell_type": "code",
      "source": [
        "country = financeEA.groupby('Type of Job')['Has a Bank account'].value_counts(normalize=True).unstack()\n",
        "country.plot(kind='bar', figsize=(8, 6), stacked=True)\n",
        "\n",
        "# Rotating our x axis ticks\n",
        "plt.xticks(rotation = 45)\n",
        "\n",
        "# Giving our chart a title\n",
        "plt.title('Job Type Vs Has Bank Account', fontsize=14, y=1.015)\n",
        "\n",
        "# Labeling our y axis\n",
        "plt.ylabel('Has Bank Account', fontsize=14, labelpad=15)\n",
        "\n",
        "# Labeling our x axis\n",
        "plt.xlabel('Cell Phone Access', fontsize=14, labelpad=15)\n",
        "\n",
        "# Displaying our chart\n",
        "plt.show()"
      ],
      "metadata": {
        "colab": {
          "base_uri": "https://localhost:8080/",
          "height": 535
        },
        "id": "3ClBm50yptFQ",
        "outputId": "cc7e6211-1a72-4293-fd72-36b9650fb6c2"
      },
      "execution_count": null,
      "outputs": [
        {
          "output_type": "display_data",
          "data": {
            "text/plain": [
              "<Figure size 576x432 with 1 Axes>"
            ],
            "image/png": "[encoded data removed]"
          },
          "metadata": {
            "needs_background": "light"
          }
        }
      ]
    },
    {
      "cell_type": "markdown",
      "source": [
        "Most Individuals doing farming and fishing have bank accounts. Almost all individuals with no income have no bank Accounts."
      ],
      "metadata": {
        "id": "T9CIqwj6rYbk"
      }
    },
    {
      "cell_type": "code",
      "source": [
        "country = financeEA.groupby('Level of Educuation')['Has a Bank account'].value_counts(normalize=True).unstack()\n",
        "country.plot(kind='bar', figsize=(8, 6), stacked=True)\n",
        "\n",
        "# Rotating our x axis ticks\n",
        "plt.xticks(rotation = 45)\n",
        "\n",
        "# Giving our chart a title\n",
        "plt.title('Level of Education Vs Bank Accounts', fontsize=14, y=1.015)\n",
        "\n",
        "# Labeling our y axis\n",
        "plt.ylabel('Has Bank Account', fontsize=14, labelpad=15)\n",
        "\n",
        "# Labeling our x axis\n",
        "plt.xlabel('Level of Education', fontsize=14, labelpad=15)\n",
        "\n",
        "# Displaying our chart\n",
        "plt.show()"
      ],
      "metadata": {
        "colab": {
          "base_uri": "https://localhost:8080/",
          "height": 531
        },
        "id": "zt5rDEpkox0u",
        "outputId": "70ff7f7b-8317-4f67-9932-d6e0a4c1fe15"
      },
      "execution_count": null,
      "outputs": [
        {
          "output_type": "display_data",
          "data": {
            "text/plain": [
              "<Figure size 576x432 with 1 Axes>"
            ],
            "image/png": "[encoded data removed]"
          },
          "metadata": {
            "needs_background": "light"
          }
        }
      ]
    },
    {
      "cell_type": "markdown",
      "source": [
        "Individuals with no formal education have no bank accounts whereas those with vocational/spcialised training are more likely to have bank accounts."
      ],
      "metadata": {
        "id": "Nx4jD9IbsZhw"
      }
    },
    {
      "cell_type": "code",
      "source": [
        "country = financeEA.groupby('marital_status')['Has a Bank account'].value_counts(normalize=True).unstack()\n",
        "country.plot(kind='bar', figsize=(8, 6), stacked=True)\n",
        "\n",
        "# Rotating our x axis ticks\n",
        "plt.xticks(rotation = 45)\n",
        "\n",
        "# Giving our chart a title\n",
        "plt.title('Marital status and Individuals With Bank Accounts', fontsize=14, y=1.015)\n",
        "\n",
        "# Labeling our y axis\n",
        "plt.ylabel('Has Bank Account', fontsize=14, labelpad=15)\n",
        "\n",
        "# Labeling our x axis\n",
        "plt.xlabel('Marital Status', fontsize=14, labelpad=15)\n",
        "\n",
        "# Displaying our chart\n",
        "plt.show()"
      ],
      "metadata": {
        "colab": {
          "base_uri": "https://localhost:8080/",
          "height": 505
        },
        "id": "7CHdhrBAnvs-",
        "outputId": "259797b4-69b5-4ec0-f7e3-23ce3fc56bae"
      },
      "execution_count": null,
      "outputs": [
        {
          "output_type": "display_data",
          "data": {
            "text/plain": [
              "<Figure size 576x432 with 1 Axes>"
            ],
            "image/png": "[encoded data removed]"
          },
          "metadata": {
            "needs_background": "light"
          }
        }
      ]
    },
    {
      "cell_type": "markdown",
      "source": [
        "Those with no/don't know their marital status have more bank accounts as compared to the other groups."
      ],
      "metadata": {
        "id": "JTn_hA32tC0Z"
      }
    },
    {
      "cell_type": "code",
      "source": [
        "country = financeEA.groupby('The relathip with head')['Has a Bank account'].value_counts(normalize=True).unstack()\n",
        "country.plot(kind='bar', figsize=(8, 6), stacked=True)\n",
        "\n",
        "# Rotating our x axis ticks\n",
        "plt.xticks(rotation = 45)\n",
        "\n",
        "# Giving our chart a title\n",
        "plt.title('Persons relationship with head and their access to Bank Accounts', fontsize=14, y=1.015)\n",
        "\n",
        "# Labeling our y axis\n",
        "plt.ylabel('Has Bank Account', fontsize=14, labelpad=15)\n",
        "\n",
        "# Labeling our x axis\n",
        "plt.xlabel('Relationship With Head', fontsize=14, labelpad=15)\n",
        "\n",
        "# Displaying our chart\n",
        "plt.show()"
      ],
      "metadata": {
        "colab": {
          "base_uri": "https://localhost:8080/",
          "height": 490
        },
        "id": "tEHROc3bnW4L",
        "outputId": "2f749e4b-e5af-45c4-91b0-60d4da779928"
      },
      "execution_count": null,
      "outputs": [
        {
          "output_type": "display_data",
          "data": {
            "text/plain": [
              "<Figure size 576x432 with 1 Axes>"
            ],
            "image/png": "[encoded data removed]"
          },
          "metadata": {
            "needs_background": "light"
          }
        }
      ]
    },
    {
      "cell_type": "markdown",
      "source": [
        "Among the individuals in households the head of households is most likely to have a bank account."
      ],
      "metadata": {
        "id": "UoGKqo2EuOEZ"
      }
    },
    {
      "cell_type": "code",
      "source": [
        "country = financeEA.groupby('gender_of_respondent')['Has a Bank account'].value_counts(normalize=True).unstack()\n",
        "country.plot(kind='bar', figsize=(8, 6), stacked=True)\n",
        "\n",
        "# Rotating our x axis ticks\n",
        "plt.xticks(rotation = 45)\n",
        "\n",
        "# Giving our chart a title\n",
        "plt.title('Gender Vs Bank Accounts', fontsize=14, y=1.015)\n",
        "\n",
        "# Labeling our y axis\n",
        "plt.ylabel('Has Bank Account', fontsize=14, labelpad=15)\n",
        "\n",
        "# Labeling our x axis\n",
        "plt.xlabel('gender_of_respondent', fontsize=14, labelpad=15)\n",
        "\n",
        "# Displaying our chart\n",
        "plt.show()"
      ],
      "metadata": {
        "colab": {
          "base_uri": "https://localhost:8080/",
          "height": 448
        },
        "id": "_mmLYgCUm5k-",
        "outputId": "6098537b-b94c-4535-aa9e-9d5ab8ee6b0a"
      },
      "execution_count": null,
      "outputs": [
        {
          "output_type": "display_data",
          "data": {
            "text/plain": [
              "<Figure size 576x432 with 1 Axes>"
            ],
            "image/png": "[encoded data removed]"
          },
          "metadata": {
            "needs_background": "light"
          }
        }
      ]
    },
    {
      "cell_type": "markdown",
      "source": [
        "The male gender own more bank accounts compared to their female counterparts"
      ],
      "metadata": {
        "id": "haPW5r-0u6Hl"
      }
    },
    {
      "cell_type": "code",
      "source": [
        "country = financeEA.groupby('Cell Phone Access')['Has a Bank account'].value_counts(normalize=True).unstack()\n",
        "country.plot(kind='bar', figsize=(8, 6), stacked=True)\n",
        "\n",
        "# Rotating our x axis ticks\n",
        "plt.xticks(rotation = 45)\n",
        "\n",
        "# Giving our chart a title\n",
        "plt.title('Persons with cells phone access and Have Bank Account', fontsize=14, y=1.015)\n",
        "\n",
        "# Labeling our y axis\n",
        "plt.ylabel('Has Bank Account', fontsize=14, labelpad=15)\n",
        "\n",
        "# Labeling our x axis\n",
        "plt.xlabel('Cell Phone Access', fontsize=14, labelpad=15)\n",
        "\n",
        "# Displaying our chart\n",
        "plt.show()"
      ],
      "metadata": {
        "colab": {
          "base_uri": "https://localhost:8080/",
          "height": 433
        },
        "id": "s208YXgKl9vL",
        "outputId": "50988583-77e4-492c-e832-6cba26925f39"
      },
      "execution_count": null,
      "outputs": [
        {
          "output_type": "display_data",
          "data": {
            "text/plain": [
              "<Figure size 576x432 with 1 Axes>"
            ],
            "image/png": "[encoded data removed]"
          },
          "metadata": {
            "needs_background": "light"
          }
        }
      ]
    },
    {
      "cell_type": "markdown",
      "source": [
        "Individuals with cell phone access are more like;y to own a bank account compared to the individual with no access to a cell phone"
      ],
      "metadata": {
        "id": "4_YLaZ_ivTU3"
      }
    },
    {
      "cell_type": "code",
      "source": [
        "country = financeEA.groupby('Type of Location')['Has a Bank account'].value_counts(normalize=True).unstack()\n",
        "country.plot(kind='bar', figsize=(8, 6), stacked=True)\n",
        "\n",
        "# Rotating our x axis ticks\n",
        "plt.xticks(rotation = 45)\n",
        "\n",
        "# Giving our chart a title\n",
        "plt.title('Persons with Bank Accounts per Type of Location', fontsize=14, y=1.015)\n",
        "\n",
        "# Labeling our y axis\n",
        "plt.ylabel('Has Bank Account', fontsize=14, labelpad=15)\n",
        "\n",
        "# Labeling our x axis\n",
        "plt.xlabel('Type of Location', fontsize=14, labelpad=15)\n",
        "\n",
        "# Displaying our chart\n",
        "plt.show()"
      ],
      "metadata": {
        "colab": {
          "base_uri": "https://localhost:8080/",
          "height": 443
        },
        "id": "1GY-wzPXieFG",
        "outputId": "dd2827e2-fdf0-4f43-a9c8-822d1b0d5e31"
      },
      "execution_count": null,
      "outputs": [
        {
          "output_type": "display_data",
          "data": {
            "text/plain": [
              "<Figure size 576x432 with 1 Axes>"
            ],
            "image/png": "[encoded data removed]"
          },
          "metadata": {
            "needs_background": "light"
          }
        }
      ]
    },
    {
      "cell_type": "markdown",
      "source": [
        "Most individuals in the urban areas have bank accounts as compared to the rural setup. The ownership of bank accounts in both locations is still low."
      ],
      "metadata": {
        "id": "pNZVILpevtyx"
      }
    },
    {
      "cell_type": "code",
      "source": [
        "country = financeEA.groupby('country')['Has a Bank account'].value_counts(normalize=True).unstack()\n",
        "country.plot(kind='bar', figsize=(8, 6), stacked=True)\n",
        "\n",
        "# Rotating our x axis ticks\n",
        "plt.xticks(rotation = 45)\n",
        "\n",
        "# Giving our chart a title\n",
        "plt.title('Persons with Bank Accounts per Country', fontsize=14, y=1.015)\n",
        "\n",
        "# Labeling our y axis\n",
        "plt.ylabel('Has Bank Account', fontsize=14, labelpad=15)\n",
        "\n",
        "# Labeling our x axis\n",
        "plt.xlabel('Country', fontsize=14, labelpad=15)\n",
        "\n",
        "# Displaying our chart\n",
        "plt.show()"
      ],
      "metadata": {
        "colab": {
          "base_uri": "https://localhost:8080/",
          "height": 453
        },
        "id": "wru7KqI4hyp6",
        "outputId": "bcadd6d4-3ffd-41ff-8fc8-a576e6ef5a76"
      },
      "execution_count": null,
      "outputs": [
        {
          "output_type": "display_data",
          "data": {
            "text/plain": [
              "<Figure size 576x432 with 1 Axes>"
            ],
            "image/png": "[encoded data removed]"
          },
          "metadata": {
            "needs_background": "light"
          }
        }
      ]
    },
    {
      "cell_type": "markdown",
      "source": [
        "Kenya has the highest number of individuals who have bank accounts, closely followed by Rwanda."
      ],
      "metadata": {
        "id": "gG2LJ8cnwYa6"
      }
    },
    {
      "cell_type": "markdown",
      "source": [
        "## Multivariate Analysis"
      ],
      "metadata": {
        "id": "05PG6nrL4A0E"
      }
    },
    {
      "cell_type": "code",
      "source": [
        "# we then import label encoder to convert our categorical data into numbers \n",
        "\n",
        "from sklearn.preprocessing import LabelEncoder\n",
        "lb=LabelEncoder()\n",
        "\n",
        "financeEA['country']=lb.fit_transform(financeEA['country'].astype(str))\n",
        "financeEA['Type of Location']=lb.fit_transform(financeEA['Type of Location'].astype(str))\n",
        "financeEA['Cell Phone Access']=lb.fit_transform(financeEA['Cell Phone Access'].astype(str))\n",
        "financeEA['gender_of_respondent']=lb.fit_transform(financeEA['gender_of_respondent'].astype(str))\n",
        "financeEA['The relathip with head']=lb.fit_transform(financeEA['The relathip with head'].astype(str))\n",
        "financeEA['marital_status']=lb.fit_transform(financeEA['marital_status'].astype(str))\n",
        "financeEA['Level of Educuation']=lb.fit_transform(financeEA['Level of Educuation'].astype(str))\n",
        "financeEA['Type of Job']=lb.fit_transform(financeEA['Type of Job'].astype(str))\n",
        "\n",
        "financeEA.head(3)"
      ],
      "metadata": {
        "colab": {
          "base_uri": "https://localhost:8080/",
          "height": 260
        },
        "id": "u23AIhGOnGkJ",
        "outputId": "b6086ae1-fe58-4797-cdef-4cdfa11cff82"
      },
      "execution_count": 76,
      "outputs": [
        {
          "output_type": "execute_result",
          "data": {
            "text/plain": [
              "   Unnamed: 0  country  year    uniqueid Has a Bank account  Type of Location  \\\n",
              "0           0        0  2018  uniqueid_1                Yes                 0   \n",
              "1           1        0  2018  uniqueid_2                 No                 0   \n",
              "2           2        0  2018  uniqueid_3                Yes                 1   \n",
              "\n",
              "   Cell Phone Access  household_size  Respondent Age  gender_of_respondent  \\\n",
              "0                  1             3.0            24.0                     0   \n",
              "1                  0             5.0            70.0                     0   \n",
              "2                  1             5.0            26.0                     1   \n",
              "\n",
              "   The relathip with head  marital_status  Level of Educuation  Type of Job  \n",
              "0                       5               2                    4            9  \n",
              "1                       1               4                    1            4  \n",
              "2                       3               3                    6            9  "
            ],
            "text/html": [
              "\n",
              "  <div id=\"df-41b232d8-abf2-4163-92dc-ba702a1ae722\">\n",
              "    <div class=\"colab-df-container\">\n",
              "      <div>\n",
              "<style scoped>\n",
              "    .dataframe tbody tr th:only-of-type {\n",
              "        vertical-align: middle;\n",
              "    }\n",
              "\n",
              "    .dataframe tbody tr th {\n",
              "        vertical-align: top;\n",
              "    }\n",
              "\n",
              "    .dataframe thead th {\n",
              "        text-align: right;\n",
              "    }\n",
              "</style>\n",
              "<table border=\"1\" class=\"dataframe\">\n",
              "  <thead>\n",
              "    <tr style=\"text-align: right;\">\n",
              "      <th></th>\n",
              "      <th>Unnamed: 0</th>\n",
              "      <th>country</th>\n",
              "      <th>year</th>\n",
              "      <th>uniqueid</th>\n",
              "      <th>Has a Bank account</th>\n",
              "      <th>Type of Location</th>\n",
              "      <th>Cell Phone Access</th>\n",
              "      <th>household_size</th>\n",
              "      <th>Respondent Age</th>\n",
              "      <th>gender_of_respondent</th>\n",
              "      <th>The relathip with head</th>\n",
              "      <th>marital_status</th>\n",
              "      <th>Level of Educuation</th>\n",
              "      <th>Type of Job</th>\n",
              "    </tr>\n",
              "  </thead>\n",
              "  <tbody>\n",
              "    <tr>\n",
              "      <th>0</th>\n",
              "      <td>0</td>\n",
              "      <td>0</td>\n",
              "      <td>2018</td>\n",
              "      <td>uniqueid_1</td>\n",
              "      <td>Yes</td>\n",
              "      <td>0</td>\n",
              "      <td>1</td>\n",
              "      <td>3.0</td>\n",
              "      <td>24.0</td>\n",
              "      <td>0</td>\n",
              "      <td>5</td>\n",
              "      <td>2</td>\n",
              "      <td>4</td>\n",
              "      <td>9</td>\n",
              "    </tr>\n",
              "    <tr>\n",
              "      <th>1</th>\n",
              "      <td>1</td>\n",
              "      <td>0</td>\n",
              "      <td>2018</td>\n",
              "      <td>uniqueid_2</td>\n",
              "      <td>No</td>\n",
              "      <td>0</td>\n",
              "      <td>0</td>\n",
              "      <td>5.0</td>\n",
              "      <td>70.0</td>\n",
              "      <td>0</td>\n",
              "      <td>1</td>\n",
              "      <td>4</td>\n",
              "      <td>1</td>\n",
              "      <td>4</td>\n",
              "    </tr>\n",
              "    <tr>\n",
              "      <th>2</th>\n",
              "      <td>2</td>\n",
              "      <td>0</td>\n",
              "      <td>2018</td>\n",
              "      <td>uniqueid_3</td>\n",
              "      <td>Yes</td>\n",
              "      <td>1</td>\n",
              "      <td>1</td>\n",
              "      <td>5.0</td>\n",
              "      <td>26.0</td>\n",
              "      <td>1</td>\n",
              "      <td>3</td>\n",
              "      <td>3</td>\n",
              "      <td>6</td>\n",
              "      <td>9</td>\n",
              "    </tr>\n",
              "  </tbody>\n",
              "</table>\n",
              "</div>\n",
              "      <button class=\"colab-df-convert\" onclick=\"convertToInteractive('df-41b232d8-abf2-4163-92dc-ba702a1ae722')\"\n",
              "              title=\"Convert this dataframe to an interactive table.\"\n",
              "              style=\"display:none;\">\n",
              "        \n",
              "  <svg xmlns=\"http://www.w3.org/2000/svg\" height=\"24px\"viewBox=\"0 0 24 24\"\n",
              "       width=\"24px\">\n",
              "    <path d=\"M0 0h24v24H0V0z\" fill=\"none\"/>\n",
              "    <path d=\"M18.56 5.44l.94 2.06.94-2.06 2.06-.94-2.06-.94-.94-2.06-.94 2.06-2.06.94zm-11 1L8.5 8.5l.94-2.06 2.06-.94-2.06-.94L8.5 2.5l-.94 2.06-2.06.94zm10 10l.94 2.06.94-2.06 2.06-.94-2.06-.94-.94-2.06-.94 2.06-2.06.94z\"/><path d=\"M17.41 7.96l-1.37-1.37c-.4-.4-.92-.59-1.43-.59-.52 0-1.04.2-1.43.59L10.3 9.45l-7.72 7.72c-.78.78-.78 2.05 0 2.83L4 21.41c.39.39.9.59 1.41.59.51 0 1.02-.2 1.41-.59l7.78-7.78 2.81-2.81c.8-.78.8-2.07 0-2.86zM5.41 20L4 18.59l7.72-7.72 1.47 1.35L5.41 20z\"/>\n",
              "  </svg>\n",
              "      </button>\n",
              "      \n",
              "  <style>\n",
              "    .colab-df-container {\n",
              "      display:flex;\n",
              "      flex-wrap:wrap;\n",
              "      gap: 12px;\n",
              "    }\n",
              "\n",
              "    .colab-df-convert {\n",
              "      background-color: #E8F0FE;\n",
              "      border: none;\n",
              "      border-radius: 50%;\n",
              "      cursor: pointer;\n",
              "      display: none;\n",
              "      fill: #1967D2;\n",
              "      height: 32px;\n",
              "      padding: 0 0 0 0;\n",
              "      width: 32px;\n",
              "    }\n",
              "\n",
              "    .colab-df-convert:hover {\n",
              "      background-color: #E2EBFA;\n",
              "      box-shadow: 0px 1px 2px rgba(60, 64, 67, 0.3), 0px 1px 3px 1px rgba(60, 64, 67, 0.15);\n",
              "      fill: #174EA6;\n",
              "    }\n",
              "\n",
              "    [theme=dark] .colab-df-convert {\n",
              "      background-color: #3B4455;\n",
              "      fill: #D2E3FC;\n",
              "    }\n",
              "\n",
              "    [theme=dark] .colab-df-convert:hover {\n",
              "      background-color: #434B5C;\n",
              "      box-shadow: 0px 1px 3px 1px rgba(0, 0, 0, 0.15);\n",
              "      filter: drop-shadow(0px 1px 2px rgba(0, 0, 0, 0.3));\n",
              "      fill: #FFFFFF;\n",
              "    }\n",
              "  </style>\n",
              "\n",
              "      <script>\n",
              "        const buttonEl =\n",
              "          document.querySelector('#df-41b232d8-abf2-4163-92dc-ba702a1ae722 button.colab-df-convert');\n",
              "        buttonEl.style.display =\n",
              "          google.colab.kernel.accessAllowed ? 'block' : 'none';\n",
              "\n",
              "        async function convertToInteractive(key) {\n",
              "          const element = document.querySelector('#df-41b232d8-abf2-4163-92dc-ba702a1ae722');\n",
              "          const dataTable =\n",
              "            await google.colab.kernel.invokeFunction('convertToInteractive',\n",
              "                                                     [key], {});\n",
              "          if (!dataTable) return;\n",
              "\n",
              "          const docLinkHtml = 'Like what you see? Visit the ' +\n",
              "            '<a target=\"_blank\" href=https://colab.research.google.com/notebooks/data_table.ipynb>data table notebook</a>'\n",
              "            + ' to learn more about interactive tables.';\n",
              "          element.innerHTML = '';\n",
              "          dataTable['output_type'] = 'display_data';\n",
              "          await google.colab.output.renderOutput(dataTable, element);\n",
              "          const docLink = document.createElement('div');\n",
              "          docLink.innerHTML = docLinkHtml;\n",
              "          element.appendChild(docLink);\n",
              "        }\n",
              "      </script>\n",
              "    </div>\n",
              "  </div>\n",
              "  "
            ]
          },
          "metadata": {},
          "execution_count": 76
        }
      ]
    },
    {
      "cell_type": "code",
      "source": [
        "# dividing dataset into features and corresponding labels \n",
        "# and then divide the resultant dataset into training and test sets. \n",
        "\n",
        "X = financeEA.iloc[:, 0:4].values\n",
        "y = financeEA.iloc[:, 4].values"
      ],
      "metadata": {
        "id": "RJEeDQar4GGZ"
      },
      "execution_count": 74,
      "outputs": []
    },
    {
      "cell_type": "code",
      "source": [
        "# dividing the data into training and test sets\n",
        "#\n",
        "from sklearn.model_selection import train_test_split\n",
        "\n",
        "X_train, X_test, y_train, y_test = train_test_split(X, y, test_size=0.2, random_state=0)"
      ],
      "metadata": {
        "id": "bkXhpyHOJXMA"
      },
      "execution_count": 52,
      "outputs": []
    },
    {
      "cell_type": "code",
      "source": [
        "# performing feature scaling.\n",
        "\n",
        "from sklearn.preprocessing import StandardScaler\n",
        "\n",
        "sc = StandardScaler()\n",
        "X_train = sc.fit_transform(X_train)\n",
        "X_test = sc.transform(X_test)"
      ],
      "metadata": {
        "id": "LxbfLbzaKnOQ"
      },
      "execution_count": 53,
      "outputs": []
    },
    {
      "cell_type": "code",
      "source": [
        "# Getting rid of the infinite values\n",
        "\n",
        "financeEA.replace([np.inf, -np.inf], np.nan, inplace=True)"
      ],
      "metadata": {
        "id": "7FtzUkh5WnQH"
      },
      "execution_count": 75,
      "outputs": []
    },
    {
      "cell_type": "code",
      "source": [
        "# Perfroming LDA\n",
        "\n",
        "from sklearn.discriminant_analysis import LinearDiscriminantAnalysis as LDA\n",
        "\n",
        "lda = LDA(n_components=1)\n",
        "X_train = lda.fit_transform(X_train, y_train)\n",
        "X_test = lda.transform(X_test)"
      ],
      "metadata": {
        "id": "Lf4mlmr1LXvn"
      },
      "execution_count": null,
      "outputs": []
    },
    {
      "cell_type": "code",
      "source": [
        "# Training and making predictions\n",
        "\n",
        "from sklearn.ensemble import RandomForestClassifier\n",
        "\n",
        "classifier = RandomForestClassifier(max_depth=2, random_state=0)\n",
        "classifier.fit(X_train, y_train)\n",
        "y_pred = classifier.predict(X_test)"
      ],
      "metadata": {
        "id": "ts0MrSPdLekz"
      },
      "execution_count": null,
      "outputs": []
    },
    {
      "cell_type": "code",
      "source": [
        "# Evaluating the performance\n",
        "\n",
        "from sklearn.metrics import confusion_matrix\n",
        "from sklearn.metrics import accuracy_score\n",
        "\n",
        "cm = confusion_matrix(y_test, y_pred)\n",
        "print(cm)\n",
        "print('Accuracy' + str(accuracy_score(y_test, y_pred)))"
      ],
      "metadata": {
        "id": "8hlxD3N9Lvpu"
      },
      "execution_count": null,
      "outputs": []
    },
    {
      "cell_type": "markdown",
      "metadata": {
        "id": "lQ2G4ZPDVOXE"
      },
      "source": [
        "## 7. Challenging the solution"
      ]
    },
    {
      "cell_type": "markdown",
      "source": [
        "The prediction method used here was Linear Discriminant Analysis."
      ],
      "metadata": {
        "id": "xgwqKTUshKI8"
      }
    },
    {
      "cell_type": "markdown",
      "metadata": {
        "id": "xrmHVMVsVS--"
      },
      "source": [
        "## 8. Follow up questions"
      ]
    },
    {
      "cell_type": "markdown",
      "metadata": {
        "id": "pth2qSWhuBIy"
      },
      "source": [
        "> At this point, we can refine our question or collect new data, all in an iterative process to get at the truth.\n",
        "\n"
      ]
    },
    {
      "cell_type": "markdown",
      "metadata": {
        "id": "HPQviDmNtta8"
      },
      "source": [
        "### a). Did we have the right data?"
      ]
    },
    {
      "cell_type": "markdown",
      "source": [
        "We had the right data that covered the most important factors that explain financial inclusion in East Africa.\n"
      ],
      "metadata": {
        "id": "vyH_K69HhwAH"
      }
    },
    {
      "cell_type": "markdown",
      "metadata": {
        "id": "qjFHK1CKty7o"
      },
      "source": [
        "### b). Do we need other data to answer our question?"
      ]
    },
    {
      "cell_type": "markdown",
      "source": [
        "The datasets provided were sufficient for our analysis and they answered our problem."
      ],
      "metadata": {
        "id": "3GQecyUjiO8X"
      }
    },
    {
      "cell_type": "markdown",
      "metadata": {
        "id": "HSsicSdvt4Zs"
      },
      "source": [
        "### c). Did we have the right question?"
      ]
    },
    {
      "cell_type": "markdown",
      "source": [
        "Yes and from our analysis we've found that individuals who are likely to have bank accounts have the following factors; \n",
        "1. Are of the male gender\n",
        "2. Have farming and fishing as the main job type\n",
        "3. Have vocational/specialised training as the most common level of education\n",
        "4. Living in urban area\n",
        "5. They are the head of their families\n",
        "6. And they dont know their marital status.\n",
        "7. They most likely live in Kenya"
      ],
      "metadata": {
        "id": "1Wc_MGOjjGy9"
      }
    }
  ]
}